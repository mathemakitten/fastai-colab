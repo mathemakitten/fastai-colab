{
  "nbformat": 4,
  "nbformat_minor": 0,
  "metadata": {
    "colab": {
      "name": "sgd-intro.ipynb",
      "version": "0.3.2",
      "provenance": [],
      "collapsed_sections": [],
      "include_colab_link": true
    },
    "kernelspec": {
      "display_name": "Python 2",
      "language": "python",
      "name": "python2"
    }
  },
  "cells": [
    {
      "cell_type": "markdown",
      "metadata": {
        "id": "view-in-github",
        "colab_type": "text"
      },
      "source": [
        "<a href=\"https://colab.research.google.com/github/mathemakitten/fastai-colab/blob/master/sgd_intro.ipynb\" target=\"_parent\"><img src=\"https://colab.research.google.com/assets/colab-badge.svg\" alt=\"Open In Colab\"/></a>"
      ]
    },
    {
      "metadata": {
        "toc": "true",
        "id": "oAbF13DRuj04",
        "colab_type": "text"
      },
      "cell_type": "markdown",
      "source": [
        "# Table of Contents\n",
        " <p>"
      ]
    },
    {
      "metadata": {
        "id": "egKmkDOtuj08",
        "colab_type": "code",
        "colab": {}
      },
      "cell_type": "code",
      "source": [
        "%matplotlib inline\n",
        "\n",
        "import math,sys,os,numpy as np\n",
        "from numpy.random import random\n",
        "from matplotlib import pyplot as plt, rcParams, animation, rc\n",
        "from __future__ import print_function, division\n",
        "from ipywidgets import interact, interactive, fixed\n",
        "from ipywidgets.widgets import *\n",
        "\n",
        "rc('animation', html='html5')\n",
        "rcParams['figure.figsize'] = 3, 3\n",
        "%precision 4\n",
        "np.set_printoptions(precision=4, linewidth=100)"
      ],
      "execution_count": 0,
      "outputs": []
    },
    {
      "metadata": {
        "id": "YgzRBoowuj1C",
        "colab_type": "code",
        "colab": {}
      },
      "cell_type": "code",
      "source": [
        "def lin(a,b,x): \n",
        "  return a*x+b"
      ],
      "execution_count": 0,
      "outputs": []
    },
    {
      "metadata": {
        "id": "ljf7jW0Duj1G",
        "colab_type": "code",
        "colab": {}
      },
      "cell_type": "code",
      "source": [
        "a=3.\n",
        "b=8."
      ],
      "execution_count": 0,
      "outputs": []
    },
    {
      "metadata": {
        "id": "zeWr90_Ouj1L",
        "colab_type": "code",
        "colab": {}
      },
      "cell_type": "code",
      "source": [
        "n=30\n",
        "x = random(n)\n",
        "y = lin(a,b,x)"
      ],
      "execution_count": 0,
      "outputs": []
    },
    {
      "metadata": {
        "id": "qYGHCClkuj1O",
        "colab_type": "code",
        "outputId": "5c93bd9f-9f09-4269-975d-d224afbaba47",
        "colab": {
          "base_uri": "https://localhost:8080/",
          "height": 69
        }
      },
      "cell_type": "code",
      "source": [
        "x"
      ],
      "execution_count": 5,
      "outputs": [
        {
          "output_type": "execute_result",
          "data": {
            "text/plain": [
              "array([0.8551, 0.9238, 0.1991, 0.4753, 0.8448, 0.3248, 0.3257, 0.816 , 0.8407, 0.6744, 0.4671,\n",
              "       0.6966, 0.7838, 0.9679, 0.0215, 0.5888, 0.764 , 0.9527, 0.1645, 0.6716, 0.2499, 0.3011,\n",
              "       0.0886, 0.5653, 0.6818, 0.9653, 0.6647, 0.0141, 0.5718, 0.3037])"
            ]
          },
          "metadata": {
            "tags": []
          },
          "execution_count": 5
        }
      ]
    },
    {
      "metadata": {
        "id": "A9RcuPEduj1U",
        "colab_type": "code",
        "outputId": "cae11863-9ad7-4b65-80d1-b3053d0e9dca",
        "colab": {
          "base_uri": "https://localhost:8080/",
          "height": 69
        }
      },
      "cell_type": "code",
      "source": [
        "y"
      ],
      "execution_count": 6,
      "outputs": [
        {
          "output_type": "execute_result",
          "data": {
            "text/plain": [
              "array([10.5653, 10.7714,  8.5973,  9.4258, 10.5344,  8.9744,  8.9772, 10.448 , 10.5221, 10.0232,\n",
              "        9.4014, 10.0897, 10.3515, 10.9036,  8.0646,  9.7664, 10.292 , 10.8582,  8.4934, 10.0147,\n",
              "        8.7497,  8.9033,  8.2658,  9.6959, 10.0453, 10.8959,  9.9942,  8.0422,  9.7155,  8.911 ])"
            ]
          },
          "metadata": {
            "tags": []
          },
          "execution_count": 6
        }
      ]
    },
    {
      "metadata": {
        "id": "eodM7h_Cuj1a",
        "colab_type": "code",
        "outputId": "656beb67-13db-457c-eefb-59ef01660ed6",
        "colab": {
          "base_uri": "https://localhost:8080/",
          "height": 229
        }
      },
      "cell_type": "code",
      "source": [
        "plt.scatter(x,y)"
      ],
      "execution_count": 7,
      "outputs": [
        {
          "output_type": "execute_result",
          "data": {
            "text/plain": [
              "<matplotlib.collections.PathCollection at 0x7ff5155c3b90>"
            ]
          },
          "metadata": {
            "tags": []
          },
          "execution_count": 7
        },
        {
          "output_type": "display_data",
          "data": {
            "image/png": "[encoded data removed]",
            "text/plain": [
              "<matplotlib.figure.Figure at 0x7ff515ed7410>"
            ]
          },
          "metadata": {
            "tags": []
          }
        }
      ]
    },
    {
      "metadata": {
        "id": "upGXD2R_uj1e",
        "colab_type": "code",
        "colab": {}
      },
      "cell_type": "code",
      "source": [
        "def sse(y,y_pred): \n",
        "  return ((y-y_pred)**2).sum()\n",
        "\n",
        "def loss(y,a,b,x): \n",
        "  return sse(y, lin(a,b,x))\n",
        "\n",
        "def avg_loss(y,a,b,x): \n",
        "  return np.sqrt(loss(y,a,b,x)/n)"
      ],
      "execution_count": 0,
      "outputs": []
    },
    {
      "metadata": {
        "id": "MoN1cpJnuj1i",
        "colab_type": "code",
        "outputId": "c07528e4-e1b6-4175-b92a-c82399b6038e",
        "colab": {
          "base_uri": "https://localhost:8080/",
          "height": 35
        }
      },
      "cell_type": "code",
      "source": [
        "a_guess=-1.\n",
        "b_guess=1.\n",
        "avg_loss(y, a_guess, b_guess, x)"
      ],
      "execution_count": 9,
      "outputs": [
        {
          "output_type": "execute_result",
          "data": {
            "text/plain": [
              "9.3084"
            ]
          },
          "metadata": {
            "tags": []
          },
          "execution_count": 9
        }
      ]
    },
    {
      "metadata": {
        "id": "z3tzGMExuj1m",
        "colab_type": "code",
        "colab": {}
      },
      "cell_type": "code",
      "source": [
        "lr=0.01\n",
        "\n",
        "# d[(y-(a*x+b))**2,b] = 2 (b + a x - y)      = 2 (y_pred - y)\n",
        "# d[(y-(a*x+b))**2,a] = 2 x (b + a x - y)    = x * dy/db"
      ],
      "execution_count": 0,
      "outputs": []
    },
    {
      "metadata": {
        "id": "dlqtObfxuj1p",
        "colab_type": "code",
        "colab": {}
      },
      "cell_type": "code",
      "source": [
        "def upd():\n",
        "    global a_guess, b_guess\n",
        "    y_pred = lin(a_guess, b_guess, x)\n",
        "    dydb = 2 * (y_pred - y)\n",
        "    dyda = x*dydb\n",
        "    a_guess -= lr*dyda.mean()\n",
        "    b_guess -= lr*dydb.mean()"
      ],
      "execution_count": 0,
      "outputs": []
    },
    {
      "metadata": {
        "id": "XPR52JzKuj1s",
        "colab_type": "code",
        "colab": {
          "base_uri": "https://localhost:8080/",
          "height": 421
        },
        "outputId": "df8b5c7c-d4e8-43a4-b91f-e5b4544eb520"
      },
      "cell_type": "code",
      "source": [
        "fig = plt.figure(dpi=100, figsize=(5, 4))\n",
        "plt.scatter(x,y)\n",
        "line, = plt.plot(x,lin(a_guess,b_guess,x))\n",
        "plt.close()\n",
        "\n",
        "def animate(i):\n",
        "    line.set_ydata(lin(a_guess,b_guess,x))\n",
        "    for i in range(10): upd()\n",
        "    return line,\n",
        "\n",
        "ani = animation.FuncAnimation(fig, animate, np.arange(0, 40), interval=100)\n",
        "ani"
      ],
      "execution_count": 12,
      "outputs": [
        {
          "output_type": "execute_result",
          "data": {
            "text/html": [
              "<video width=\"500\" height=\"400\" controls autoplay loop>\n",
              "  <source type=\"video/mp4\" src=\"data:video/mp4;base64,AAAAHGZ0eXBNNFYgAAACAGlzb21pc28yYXZjMQAAAAhmcmVlAABQ/m1kYXQAAAKuBgX//6rcRem9\n",
              "5tlIt5Ys2CDZI+7veDI2NCAtIGNvcmUgMTUyIHIyODU0IGU5YTU5MDMgLSBILjI2NC9NUEVHLTQg\n",
              "QVZDIGNvZGVjIC0gQ29weWxlZnQgMjAwMy0yMDE3IC0gaHR0cDovL3d3dy52aWRlb2xhbi5vcmcv\n",
              "eDI2NC5odG1sIC0gb3B0aW9uczogY2FiYWM9MSByZWY9MyBkZWJsb2NrPTE6MDowIGFuYWx5c2U9\n",
              "MHgzOjB4MTEzIG1lPWhleCBzdWJtZT03IHBzeT0xIHBzeV9yZD0xLjAwOjAuMDAgbWl4ZWRfcmVm\n",
              "PTEgbWVfcmFuZ2U9MTYgY2hyb21hX21lPTEgdHJlbGxpcz0xIDh4OGRjdD0xIGNxbT0wIGRlYWR6\n",
              "b25lPTIxLDExIGZhc3RfcHNraXA9MSBjaHJvbWFfcXBfb2Zmc2V0PS0yIHRocmVhZHM9MyBsb29r\n",
              "YWhlYWRfdGhyZWFkcz0xIHNsaWNlZF90aHJlYWRzPTAgbnI9MCBkZWNpbWF0ZT0xIGludGVybGFj\n",
              "ZWQ9MCBibHVyYXlfY29tcGF0PTAgY29uc3RyYWluZWRfaW50cmE9MCBiZnJhbWVzPTMgYl9weXJh\n",
              "bWlkPTIgYl9hZGFwdD0xIGJfYmlhcz0wIGRpcmVjdD0xIHdlaWdodGI9MSBvcGVuX2dvcD0wIHdl\n",
              "aWdodHA9MiBrZXlpbnQ9MjUwIGtleWludF9taW49MTAgc2NlbmVjdXQ9NDAgaW50cmFfcmVmcmVz\n",
              "aD0wIHJjX2xvb2thaGVhZD00MCByYz1jcmYgbWJ0cmVlPTEgY3JmPTIzLjAgcWNvbXA9MC42MCBx\n",
              "cG1pbj0wIHFwbWF4PTY5IHFwc3RlcD00IGlwX3JhdGlvPTEuNDAgYXE9MToxLjAwAIAAABS5ZYiE\n",
              "AD///vdonwKbWkN6gOSVxSXbT4H/q2dwfI/pAwAAAwAAAwAkAvzHv6EHQzQgAABPQARrzOx+2TwK\n",
              "wcducGmRkM/rZ0hFUXdtM++erii9DrN/CUKMriMVYGq0InP8HYsII9/gjKhb9fqGYZCeM16b71kk\n",
              "KUkfinho97vW4PAqZXExVsu7DXQx5ZaqnAdJsZnbWkwtRFlF4fro/TGu01i3uOdIt+i2x53o6QZt\n",
              "XMVj3g5HXpaoGu/gDadR3WZIPrFVxjMNsjbXfTntpawa3A1JfHgoXufmR/BEDVV3PZdl1avatf4w\n",
              "7LqY/RCyY3a3hPIwtoih6czdvpTCKIjRib6C6ZUCPOjE3HvkzMQsdHOtmSMFg8MqbsJqsfR0sPab\n",
              "2qhxe2YaZ/fRRZ+yPAfcn+/bvRzASnt73eaVvQD4y1rY88vMM9Q7XKhMauENxhZ0H2j0LIF5R2GA\n",
              "NxLaciL94bozBQYbVZXCBS0eq0Q8bRcfmRaodMWGxDnzWWLe8fLmfDoMbU7xfTnAzE1hJz+sqGcm\n",
              "hKDxdcRN4OmNBRPPkl6NtpY941TIyRgFzRHImBB7B+wJyIJ0sEjeuNcKiRgXShJnUFY+E81Yp57Z\n",
              "S8UWnqG5nRvDJ+M/GNHrK5LWoi6KjyZvwTdItD8K+fU9f7rDs6YHkUqGZhTit6jHhiz/x3U6vAV5\n",
              "pC5p0u4b7K8dvcZt3BJfeMRuosJn0Yyse0iE0bsT1t0otKYbrK6xe+7+uld4mZGnQ6EmTZDQp8N1\n",
              "JgjT5K8/lXq3JqAmDcR7J5qSoBDOzPJfd7EcNpKDkwxeI1bolJvV9g8glq1axJ3BHiEgrJ7D2l7s\n",
              "mbXbQkdq4oQ3XTwoyCuSVZVd3kO2NXY5FH3vWkBgtm5rwTpqPv/10RyHAA2f3mzyG5F2M8qN547g\n",
              "eyzu95Q2WfNo1opiimstPUdxdt7iufV1dVsNsjZ2Q8gfvV9IzHqdiDspGO8giQGvAkzhH72i7bMw\n",
              "QNub6tNXw16VAs6PuzVz3yqbimnXuz5Z9ImnqSssxdj8WZFcTtI7eBtP9m7440e70Ceb1gpuCWKe\n",
              "tU58/19nEL7d+cDTRuMABKlsTp7Sjfa9ny3G8K4iYzwWC5plSW+rexRgIditldDoTFYHgTwRRGs9\n",
              "DBbErTpdd+GOssugbIysNNr5YIHvNpEk78xG9ixhqL7zc6nbNIck2/vcultCah4nrK9ZiNuBr9Kz\n",
              "IcVPJRcKo5JyHrmirUz6P1YSfqTMinRo/d/Gh95ZEbS5D4X0XAoiNq+76A33M4eiIj3IiSOt1osy\n",
              "j8ZiQJTh8k4IxbWilWiMh/5ZWIJd+9IbLJkwQKQrxtIRJrlhonrCFgAqsYtmVF0tdehTxRmOBjxX\n",
              "ZMx0ir3+3pgL726IeOdMKbXAqlPe+l3VVottvwwJNYUQEii5cXmvx8kNuaXpuXljS5KtS/+Rq7x6\n",
              "XyKw+6S9uJXECkmXbtQwlJ9J4vs4zW1E+a+VXkTUMBaN5KM3Y+k0lAARKAXhoq1B4EmR55+tfT0P\n",
              "W0rvVgrWi8wt1/nrRztJjEuprfSw41JMJo0NMnuen+GskbrK7rQsA+QqIdOedQHFeIE8mLE4M/6n\n",
              "lEdLOpoWnl5canjptwuBrWqiMwC1TLi81GXz9xw20+gAH/npN6sxeHmdsEwbOqUIOcHda1Sxk/6J\n",
              "SKrBvP6UOUrcqrjWuD2d/R2dBeRPaTDIFO/Ayaf9xWdgRR2LwRP1Rh9ele6FaKEowtGkWSE9zN6B\n",
              "nU2we6FmlF3u0+hcOD5/+OGPJNHB0flkk5g1PdWOj6f7mf0K0IW8ziLU+Vka3lPknVajLP4oXgzo\n",
              "Y7TN8vRNS1NooIT8lpPVF891KQOs7NysDalYAhYBtSStGnDitKutjeUq+ZQUVDGYYDz5jH8Z87Gd\n",
              "z3w/epMJ2El7h+FoGVmapZO5e4H5mkiHsLCn6cZEipq6T0ygfSDi/Y1dwzzWBXSrbtXOu4ts/1E2\n",
              "6UBHDXivooXMrYeeKhYpEm5OtvYhyV/LaY/OfJSptxCSLgsDs3rzqUV9ZRbfgbS7sjHxbRFAcrg3\n",
              "DuCG4tK2iG53cMylWrSBcRcYyeZH/4hNJIDN5Q3SDL6U7G67pfzJYXtpymBIGoEX9GodWUj3AFCq\n",
              "YGYT+8Wy7H7PKSeQQgvhbVn1KcBvZxh2llKqRNgB5JCNzpW/XvxtYnjiTW1q7VTAfPMIv7rgkHHF\n",
              "Y8wV4PI7k/+lRA/ONH4J9eeVV56LVvqrfAdzWT/7A5DYTfACXsbeI7EF9MSSkAvfHnQ5SBHK/96Q\n",
              "nNiLUYjRkpcdrYaFytKCXnC3pIdPBzm3vtirTaENtE/ocKttZgcPQKzFJaOEG+fEecsdfRnGkSmp\n",
              "/iYdgAf0Xkvo8fSGxVxil6pBF/XujKkpCFPy0gb/NygUPhwlKJaXdmHnOL86S92XNdwErp3jQJa+\n",
              "+EHPqkX4QUhwLuA/9NTCwj9KuzjwtvYt7btqNAFROssco30KwefMF80Ejb6D5M36fhet/bi+H4ac\n",
              "Zi5yh2ZcS+HHODcqqeRxAkPlxikI+ICzg4fBCGqg7vEIybmbPITwg8jkS3fvnIYHRiCeR4nbyrPj\n",
              "uL9X19DiWv5bHJpSi9qpJzrFhjPFkZoBo0/IRc2gsUPnbOpycSAstu8b2oyQ81kQV/GbgkH/XqGg\n",
              "HUjtU5+R5Tmt2NQjxiNmdpF09YygXiC39MgBtec6C6L+YSRGKG7P/VO8jxyHa9dsWqP7sg6P3pq1\n",
              "iyMjx9ukya+DVRYGN3i0r0DSkWb8nw/OtnrsqP+E7qePMSDX2pj9mtk+Zq12MdrHacTB7Hg9+o5X\n",
              "iJRsbOY6tMyVMe8o+qAWvV3799y6eofCpL/gW/fYKjCWASc7mOJcRlzdo4/AXAk/26cd1Gs1pIhg\n",
              "vG5HOvdQVT3pkPQdjPUOVUsMcCtgJbZbSlaDc4cG8T5EaLxgi/P3MkFO6TbyViFaY+t0G7TfthBn\n",
              "tfLgqB5G9IGQE9553ElIM7MhTk3bV1gp6PvY9OPyd+10qGBceP3zrPRp4YtS7MB3Sp8NrcpL+A2F\n",
              "na286YSn022AtTPYP435bTFmCBO81VmKJX3hQQ9p0hnxolYObSbtZCoEQbjzHyAb4p4onO9xGtXE\n",
              "Jwo949nmKsfn+G7pXNszuARbtGQr3VAgMEI95kRiYFnIJWaWE01osNsNSX6ycyuFnGc9YRHm3/GR\n",
              "xh209fnjnAwqUWno2QUZqaJ9usWxho3l5c6wPie11DA7f5v/K5FKMzLFfkJCXFEnvUkIBzy0ram6\n",
              "b/k9bc2eM0mGsizAj8z7BHhvs519YBrS9OXRTQvGVtmsf6Do5MAMbU2HkmGSIRMhlxXmyR3tqbk/\n",
              "7diLKsz8Osa4ds00Fqy9DiFcyMvjyIUHoD+kXHVetME9Crmf4525S4NKhAUUAPaFzQnzcZQbFnx/\n",
              "9gWXUZapqOFjKv+W3jU6IQyVSp7H9g4mlEn6EpfzveVBkSBs0f2t65PwXtEI38xFAzl6xcn71xPP\n",
              "i7PQsiF4Y+Ec+jQACib9uKAAYcaF9bH7xcwLS+1iz4cl7iRgg4b82E1OdU0At/pgxNW3uFTS23zO\n",
              "HNhbNLkrClZaFREW61ve5ND2Hsw2elznYtCNjk7xF2ZZnN4cUZiPXNtVHb3OaLFn6r308qwP0nmY\n",
              "PWiwAxSwBGD948glRggCzTxKyDjS2ChHvr7yBGix0m8/okE5DRtdHKuAAXIpwl/xLfUPmfgM3JQ+\n",
              "0yD2CgDcfaedRaMDUyxQpDof7QbdKNaiyZkTwO+kA1X2SMVi+bDAr279qK4Ke3B1uF/fnlUVgxjR\n",
              "o0t7x/4JF1jh1SqFr7/oEAXEo5iTp6WmGb23ELuc5d5qPXKP9ED0m3U+0DZNbz9LyanTdJVASofc\n",
              "oAVAsO5XgGJ96ZDOORlJeNV/K0sX04jkGRwI/LhAw+I/MscMMDwxx62Sd0E/dfQM2D+GGevg+dw9\n",
              "m0Y6fgeeANyfdr3qmMoKQbeafi4fQ3ekoukNDzd+jaFY5VWa/39r5adUTUV/Ww0Pvh7xcVXxzYfE\n",
              "Cl2Cp9qYcil2/k6Gh/w3o99r0wtfnZvvjwFw4/+0Ptf0jufeiDTaWN2nchr7/WqNqCe2nioZUgDg\n",
              "IsJONbg5HyV2O6nmulwiSewvYpOtCPEKJdAiuTPX18RVVQzAPVB8RZciUtqy+/Nr5k+N1ZJ6jXHT\n",
              "OlvGpMJ8M2+1fYwQoQtou302LER9DlE9zHOjRcYs46CEUOVjB3tOQ+kOp3J+95YzKMDWiq0JWf4a\n",
              "thGiaRNY6BhCgPSDoXG4d/7tjZ7l1iSCsrUNWvovo4pFxLSmAOR/uSt/jaIF7MdBrZRrIKzNznC9\n",
              "AfkdwhRGwHh+YpXUaqcZT9ai0tm3KRMQcewTL+iogoBbPFNhGsmnzxegVUxdgr7tYF25pdKafqgQ\n",
              "KtV1uoJp1NOf732u/6wPmxK73Abd4bJwQ42v5h45jmg7kqz23drmlWdLbf9d5Zvo6oKInP8mHwnD\n",
              "4IDs7/LaTnzaMVCb9v177iZgFUYDfiEsPdUORT5gIFTD4IRZ+zFQdCEErCHFh3ZWdyIBDsDnS33a\n",
              "qdqVC6CZzxvaN6OdYIaYw/bDO9V8WudMJf+lsOaNoZ+MLm1rvcpOAyxB2fx+8coJbmRFtNxwSKm3\n",
              "qht7hpX9oBASt9bk2/clyFrqO/fKZ5GhyWQfV8qkepeXyWqpyDDcBI7HaX/75Lg/eqPVVCKqap5B\n",
              "MNGrmuUzRp4dJl5GiMFMVH896ZRh1k7JD85ixaWO5RTX0bXKBA80cGt5XZjEFIdv+kr9XhFfqoIX\n",
              "oI5EFKP5YsW2BKutSq82cTSzTt3poixQRfAYD2dPSKa0d0pwDgm8PhEQx6oI8gwcRXOtejT0uq4X\n",
              "zs/r66qZhsJj4SJ+pnE/IdDOvq/gTSDz1HxdnP2z355ODDeU/qFHVpI4043tfBtBP4F99FtM1d+z\n",
              "Yr+WOsaeSO0l7cnu0gOf2MpNLJEbnDzqnELbT5uMdjPThOHGA1a/ZM/BcDeQOcesQ86iO1JLpZUw\n",
              "RQUkAAnqzYTsrjHkItNA+/3HaLr2oQagGfii16bHgYzUAuP1IJLz5nDLeZk9ZxZfBXG98bWgLO0O\n",
              "gTeXRDYJ4P41Q5btBJeC6CwCu64TcfBOQWsgvRCcyjsh00rnrOF+oqRFraC72qXK4QQC5aFI+BkV\n",
              "GjDmLRSXblNuJX7bLQrBAH0D7J3S4YMkMpKcRxKqAAO9ilD8jdIz7SaM7IM57KczMmbIyJAiwV7T\n",
              "onk9n4cbTYUuqWeA52o2lryGvK8CnSMsoWUci0f56F6ALe+DHYK22F4Y3vw+OxSh7Q0+aoNHXqex\n",
              "FGBblw5tI1vVdg6OYsbrG9VP+I777u3nroC/X3I0GPbLHygAMSPFBxaXFbGnYj0jid9yB7N8xUUp\n",
              "IMnE9WywCTD12PZKN5IdY6re9V+b8qmoqJl+Ogz9snOaxS8OPK0KcVXqyf8QJ12JJ/kVs7Z1OeBJ\n",
              "tYdeZ3Rg7RilvsbPKVNwulaOpfODAf/DNWJowbytihBXbGHk5H9mREBoJQkkzrYJRANLDUb4aDTu\n",
              "5WZC898ZbCc5tjKb6T1glclqz4B8/IN4VpxgTYMoh4x/z9Z1nJxk/koWuvHUUjgT14617S6XwKO1\n",
              "ZVk5uvWbxn07gJGszjYq4sDDjaWdLynhbOKMgYvY7cb6+i18o0K89+G5jYgU+ACRf2CbTYm4aiHh\n",
              "dc9AQBTHngcDw8mkJXYcFq4EblnO9MCIZeWB0Ral4BVeWSeCJPG2id4MGnXss3Nmrpfxb9qU5aKe\n",
              "/RWTG6WfYB+SFiCR8aztgeivoYH5GtCqihlFkojbyzQ05MKrAbDtvifaBAtnnrZ430d3qNaqJwYA\n",
              "dm0WxdrwNJtN2SaDAh8tQT7gLGsDDGEjsuU2XM9RFY1eVGpxQtjnaPnnEK1w5xKpSXESzlmRWTak\n",
              "Tp20Y0Dzyg7bwOurQB1Zj1xrMvb27xt2YPj+g+KTjFFXi3SAYhAeqNniKnk2YqUQe+YBJWOLQDv/\n",
              "kFvjjv3VAGSgfNsr92VBuD1W8r8gfUFkpb1VRhvT+qqZVeniWBgjv0b2DXWfLM1jLQ19SKXTHEyA\n",
              "xNGEvo5Pk+b0vXOzrDjB4H2N8cD+og7fwwooj23tnbnj8DJy6VL+1Qn/Itks5an6TOA61Rucbrnj\n",
              "IAo4DLmzCaAFXqk9mpjpbVzggNFw8Z48pGqR5M7NtKWSmKgr3OiuFJBM16YU91Y0Pe+vXOUfPPzt\n",
              "qPSlfzRCJYLwP24M6ec9+yXgb8IZh8ePyamJRpVIa3vOBnfbCRFjo6dFla3haD9WLaAB4RrPjiKf\n",
              "Y6vRyzSXIXDOEu8mvCmiY0wcWPZbfUoNcYHpQM/AukLJyihXOH6mzVJyp0uzNz9pHKztRPCJqHud\n",
              "7nh+hLn03dV/kBef9HoYErGMQBRpS5vXc/Z37+XZ1BjAqxKoZPSxRC6gqJfvWHWjHsyUziIVvWoS\n",
              "eLnIeysj5wKCCmdI3jUI1h4PkSi4wwE/wzmo5FgzL05EuDefqAjZSu03DVK0hRji4nCUkWpPpmrR\n",
              "WSexi2g5cabKx2Tz4wtveJSJzGg6RqnaLjivAil6ZsBrnn1aIT1jhlbUyGqgRdyF7boCtn3ztjZT\n",
              "HPJLDThapgTQhatdUnCWN5zJtSy/Odr6lSUtH37jLRH3kWkHCh+ttCndJEIbLSNleHueujbeFacN\n",
              "jZyMl6rKnaXHLxs1NcOH4bQaqHbKQxoAw463TN658aXCMtIQOoet+2g9X5AyAJkbeYMIL8ChRw7+\n",
              "dZzUYf5snP5NSvslAzEc8F3AVHwOXZsMqLgSGguXzztHGdOk3tp0VSzc1qr7wuyRMqVmWbmD7TjS\n",
              "KBLXluGSGe7cXSnHD7C3XCBa1kXP1a8+ArkP0Xadb+wka4LpX4JXCGw9C/1y6mvAYQt9qqeFymA8\n",
              "5ozjM3y4z6TKBXIk3QrUN/86/9zhM69t6m12oYmzc0HGwuPVBwacKwoh5+slb35z1POLOiPLN0Ax\n",
              "XYW51GyjiDdji+fnsQAwI8GY0jUhf+7TU0opcsqM5DdEgD7SFqs9xa9i+TUD4h/oS+c0z5AACMgI\n",
              "KQAAAmNBmiFsQ//+qZYADeXIYTj937q9UOFBmK/jgVQgaRtorzOUZDf/Lf/8FUd/XZXmkDXHq+oG\n",
              "jLPf8HnoUHpNY+9IviqCvthnUP7xh8kHhcXHL6qt0jXu0dQGuOJgFazqrizPxbyAAyNagaD0L6nh\n",
              "5QKL41I0vL+3v/zqCHALZ+tg83opWV+Zn3Hsho1dU8l1K10HOsF0qhxWPPLQrmcvPkzAEbwDRugl\n",
              "4DmX0GZeb8zHULegSVT7yBdVNoJ46PxxuxzTEmozsUcWcPhnKzQTNLj/Lg7nmLF4/NW3jfygrhO9\n",
              "ga5H6L48ktk4/K12EfdYsQ19xrkhytTOhl5YL49CngzSZ1W5anh+62IEe/7vmjFdBk7UHiY5Rv81\n",
              "F227tcj6akYXOpRwhKA6rr6chZkeZ8na5zX3jjpIb6rW113MWlFS4HsWU8ROS9ihk0Gbdkw1vvWp\n",
              "+1vdh/ZKd4I/FN63inhwQIDv43/RiQDPCN7sLPCbQRJYcWFf20fHd9mAvcGKzEmITHLz9fN5Zlti\n",
              "0eRSjz3yfwm8MX7w7+oEw1bgpnD/6fVvkCjsuAtTow/sb0fMMUr5MLdNBv09d52eGvLt6Navlotw\n",
              "0xF4CS1wJ/x/nLjKkp0SCe5OttjJMEHBoZyMWKRoH5vpm63/hojYt2YHZoPFxwxTo8tozEFR5PK3\n",
              "rC/OQF0vT9UAgPyyFVSBIdrh9q8vl5uAP7yNsNOZkIkNOgeFLILlIq7gG4BYPxooMDPaQ4CyrLxs\n",
              "0Homnl8jlgEnYmB9eURsPkb41XN76/f8fIPE2If/o0MHSPYMSDKh7PF7z2U/RAAAA8tBmkI8IZMp\n",
              "hD///qmWAA3kvfCcHW+dVDUmJp+TnqjfxzwQVYSZQeArsCS3xvoPSVV/f+3OJaAjhbSbofevATXf\n",
              "IYmQ/awYjuMMif/SMUb4r41pYts3n+1t2zgmrBuH17zlj3J1Zf8M3JwT1RMarEGKpZXgW37Swjtz\n",
              "XSpKWyNdFrgIE4mDNRgV4RNQf/x5xue3Y100++feZA3lmXXHdrPk5kBam0YWMs23TRThd4KQGV0x\n",
              "BCtIW/+xkz8tE+oY6qTIu0Ro3Qy8H/CSAMHPx+O9j8k9CmkIbfVkyXnST/jAi5rVBF3h8IPQRS2x\n",
              "9o2+NkjheLmqzpuJmZlLmyaG8eS1S+R9zVRIke48SAapky41TJwV8zl5Rr3Zr3wa0XfCgMgiSICj\n",
              "Yw0C4GSsolvtTJLfEQjQ1HDFQLHHDhuvLEe2dhE4J7AjOoMYB1orn1k/9CSTa+Cc3A0IqHtDr9AD\n",
              "TVHENmAat/MMDq0xOsqZmNCobq2TzM35hcQXZZn6vpe0MqatuWickiceMf5jnijZcV0kku90zkDg\n",
              "hPow0aoEEJJBdUDAF/xvKvJTTCm3h/Jv4llML+GGdFjVLiFpPzvfSPV2Wacv1lLTVuO8xJfKicSw\n",
              "mk6fu08p5WXtHQtr6qaAt0S7Nf1MVZNa1U3YTC9jtPpFE9kkzci8j773JchqYOydNJ3qEVXVZFgU\n",
              "fLJhF/jfFd285sd8KmCNbm2R21u0oarHzqQMafy4NmtMshopnigOccm75E7YlTHd2gvecFVw/bsp\n",
              "rKOAuSX4ihK1JenMvYZTse+nMONtgHJz+3HEitLFLT30k9QTn9T0KW9j1uD0FS3XJ4j+nZSduCqb\n",
              "tUMtQDetXUjrwPV6en6QxGT/mQOU8xhp+JVp4EQHmuIlKFkqAjPBi+ww7OZhk4uwohUBu0wYPvmZ\n",
              "ueAR28NVR5Y5o/EyzFeU78P8vvhGs8J4FbSxJ/0kgpzJHmebM2eTQYnPIP0MBFtnDk4P+Cet7RA3\n",
              "54Z7tX5LAuLImaHSSiHPAHPS4OrsNtQFJOihnH/XqUI6ZW+mxQ1G/ZbrIt6seKAlCdC69j+F30ER\n",
              "kmQAAGndhSTwATmcmB+cCQzxlHv3vH4WOw7Qx9QVkULz1XItPay2NgIgGZuzvc4XP56aD1Z5RWnf\n",
              "EFaktmMLifHBd0imkDxGzY4cYLdyy9UG4FlGBAqHp4rm7El5dLlBJ0R5FSk5e4MBemjHk5hIOxG1\n",
              "6TIvqzMwFI7DcZwNtdp3+VspoAGgSBON16ROKJjYazZGCEVjy7PE/jI9zz6e947KUxtqYQAAAz9B\n",
              "mmNJ4Q8mUwIf//6plgAN5L3wnH7vnVdUJigzEzztkrMjraI/5AwvZl1pz/wVLZ9x89jnzhFNELpO\n",
              "6AIgDtGO9eXiVzQE5GuzFnd5LLba2q3pCwkXW9gFJo1qrX++N0NtTSDvywM4blHNM/o+8sDN7VHt\n",
              "C/Z+FtASdkv2Z09aMvRMl+BNCehACRxMTqjVsHtX+0YPZYtfGDzfGcmCeysHXZgrA7uGCBfNJHZZ\n",
              "63wrS4SN+D+taGx+mRaykME8qU1RXzxE98bh/QrrOA3AC9LFnGELSE+xvrHoZbxvqQS/GVUybKrj\n",
              "zObJVUYvNsGvf8OxhqobAhAfI/2tLz9BwpaP3s9DA8Lb8jNEXpK0TKEUbZc/ygjKNy0rCcqtn5ec\n",
              "FQ3/yeaZ9L7emZuvLY5fK4KT16161ippa/gWhAZGnL/+iC/cbxp+X5Sm/VQJU5v0XemV1m1Z6DJR\n",
              "/3628xOP+BFMzavPANamcOhJgqNt01aPRUJVetn4acl82QwQpm2cZLSejVkpE+XWebis4el6w1dq\n",
              "4s887yyIbPqgMS7IIOi7DJDdujNw8MnVsC3+RuEEkbWxmyTI7/S3XYtkn4Dt6qIYTxSP/zT7dp5m\n",
              "7jpvQMQcu+h5piDm7Keve0pek4MHcSYTk4+8sVm/K+X1uSr+c0WLvfDyxCihXk9s6UcpIru53qpe\n",
              "j8ogFhz2GDFq8KWI2/KBfPsyU8ennlzzQIhVb+eEK7d5DhVjcmYCoNTYUmjKvEWtZkje3EOOMoKf\n",
              "bmy2eBo7LSYzMR1rfsq+KzMiu4Cgw0RLbVZyaDNeMaEaYM0yCA6O2yMGPky7vSB4ClA8llTUfzV8\n",
              "If61FHRNwfid0SIwpEVPtH1hEntCTUf4ReiRRuLmko3AsytsxJ/VdKGMi9MSxBqX4S1/azlz73+c\n",
              "8moEstIwtveM+p8ryVnbyYpGZVd1FgCDPtKge4xh6nA5lzoNA5Y1RVgAJtVPUERZl1K0NSU4viNS\n",
              "mG6GQ1MkktEo91ShhRayWJ7AUrHdEtpR7g+Nfy7ygvUeqUKFOyQzNY1TOMACOI//ixLsW4y4y7wc\n",
              "vGmgHNA1wcpr2aujRHskroWrDo7VF5Pgx2Bm36PXXUgAAALIQZqESeEPJlMCH//+qZYADeS98Jwd\n",
              "b51UNSYmn5NrdDp8NH73lrnzuMuZZaQo+oJJJWQi3JI/4cXNwgnmXBXfAFSoFEUxeeilPpjn6goz\n",
              "Zq2RCb9qMbyiBObjBXU7M1MTI6KMBYmnfVqJ6MjvFhw+Uyq9q9Vpon5+564aDADanx2k0mkiCFeW\n",
              "Fv8id94OavstLQ8TUPBaZEvzAYujs2/yNoEhifuUoZwYhP9wCq4+SxNsFltimsVik+1SZno4Wj23\n",
              "mJZoRf4G1wieJUL8A9nq7+wzWz+wbXdk/UJmabE6KlxTTTOSdgttUGtqqANJ5HS4sUNBUAVs6gvP\n",
              "/hdxRYOj50+pFtWBZTzzDrl3i4ZkY8W9FGNtxip9UCxv4hEj4LZEYyJEiS4KugeEOsvO9mbDoioB\n",
              "rI2jPIXSvnBqdQvFGbPfN+jrtR7hxBcrAakOTS0x1TTpI1bdayI9x8suGK5pTvGNl7TCO3M/4ymi\n",
              "lSmw4VMGcLJfP82WF4GHve1ksAI0xUa6pNy0tZl+A3YV1PQg+y4YDdg6s1xOgfB6CVdUa/FUhEJJ\n",
              "lnsYUMjFVBAnhi+7TvmoBUlS8bYYGcL1BttMhxYbUk90V/lnrol4z2m5xVEuZjYF8oKxodWgrra/\n",
              "LZX1n9DQuyWrwgQKRF5xid9z4dB9U5thruEtNGioaKnsUKKr9Pm1wjSmJhpXWrzdjbWgS9zd5SsY\n",
              "STgF+LsPfqE9QMD1GhACUWXss/JAZy6AL76C2r1BQ/fFLVSATblwjBXpJ3YyzAZZMrajOqaHRu4c\n",
              "apB2f+49IU5G3hOxVxwUG12xHz+Zw9QIGt68HaE+l8JDzvRu3waE8+Q+fBQ5Y5P941YGFIW2p6j4\n",
              "C6BS5UJ0OvJxauRlYpAF0rsDbgWrVnyacdCW6hSDJGPxIcpxcxAUQqhqPwZY0fGlB4nBWidgxCuk\n",
              "R+LhL9NhewAAAtFBmqVJ4Q8mUwIIf/6qVQADjnkgEVZoeqax8mFikVf/b01w1B1w2g9mSfd7hzhh\n",
              "zjsmjLXJ3FQ7U83R2v9e4NggRlSSPy7Yt20hpsaDl4hDSbp+rLOZZJgx7xmzs4yuPj/6PNm+nGgQ\n",
              "/r1NYKspRAMOr8ix1d4dwU8Mumw1tKf+Q25tGUTObjF74xUcyVn793DP6nWRhgXt4YmPRNsjmN04\n",
              "ZP4CWco5qgouMUagutaFPpIgYsvi7bDOZMp5CYj4q1DndJkkw+KkU/9ImMcpdg4O7qYoH+MKbeuL\n",
              "v2yOuLsiZENc2NT44AWknO5JUwg2NdJXF8D1ET69gd04LWbwLFy2b6JLxkmL+mKBPKaCFsMzEgs+\n",
              "cdYtj7avAJc4e/bvW+JicUY3EPi9GEafHlMDKseblDKqAbb4194+Wwva3uuB6Ghh+LJqVMa2PoIu\n",
              "vSQiJL6Lcljj2Gau8PDkUXMKF1TTrsOtFgTYHcZz2tq/Z9HwaRp8EkmAxWlAk/+FMlsiMPayVfzJ\n",
              "KqJ5NgY9Cm4UWk7oHe4yhlF5Da0jL3SupWR10xKNuMbNySqVuEO5fPWrKuD3EkmdjrM1KWQ9r6wM\n",
              "QiYT8xhHJsn6x4mpkfSEQjHA2ExcfTM6VG39fCAkXMxE4RSCZecr8bRaUuNqeqeWUubax9+zd6DO\n",
              "QdKjXrECSONJjLmst/MyQbKyzh80tF85uvyOZlVInxmH/iXUcFRFLnOaIgqbBgRToemYlvZb3EQG\n",
              "/7J4b3i0go0jKRoAud13jExtL+X+hOoF2srW3FTAtxiMXmfusZKml2I+HJPFPSZfmTdcUZ9CnM1/\n",
              "HjRdkrbgMV0rqSZ0G7hPGHFNczk+dDBwEt1GL72xTmHvURiW0vnuOXOFawPPVffT0ve8cUGWTLC2\n",
              "i/wAghcQwb4EPBRxEws2ru35SAKTgvrCZOWGYNLUKKIZf2tHw1mU7RodEkdL0SphAAACVkGaxknh\n",
              "DyZTAgh//qpVAAOOeSARS1x6pnNCYUoSdGwXpL+ziOyOk4DK5R2kX7ZbGNcSVSa85KlcffIds/P7\n",
              "92iefBeDtmW/meXRfXSoOclVo/oaDccUWeE739BiLgaaNIaBaNB4TJDbbHAy5RqV/jXvHSF1Ye4R\n",
              "3VzuKx6YVGsgHG9/TziSM1lyiJbaHYNdZtc4lCcwANJEeSMhUzxxQRwpEAx5yVrN5uw3kRGQqQNA\n",
              "A8iZfxXuSFmChGC2WuQbYMUUhKRddMzYfxJWVTnCM5tEja9+OkNWhbnHCOBoHVkEmWRvMAd7miuF\n",
              "B1TJjY6Ef/8TBFt7rqaF6B/N+PDr+03GenNKuAh0jeY5I4J7ImlWUFIlqKF2BG9F8BOtX5sQTJk6\n",
              "24llqpF58L9n9cQvkvJDxIFcwySkWxBIGjhbUZxKIs39KOFcL6noVpSS/ZSrNwFMbIjJ0+qn94EE\n",
              "HyGmGTJKMHXtISAcGVDoq3ikV8HiRyOjC9tdQlSsBe55HSq9182HI2qEPdPpoE+GgPpxLghuXyOl\n",
              "oHRUOg5o6fuBra/RiytDwX1bSVYK5E+OOWRXsgxIGaOVs1U+W6Rkr8gdbIDpFJAj2qamXzAg7T35\n",
              "67a+DDoWgnGjxcnsJ98oDKpoRJ/H/fjUmg6XR1j1gkOSHTxg5CO/LtoPRhprbDXe+2sDt9FUJPK5\n",
              "083NUY4CH1/Hwz5Wmz3cDl/tFqC9QlMbV4rcFjLB7OnQEnYYzJpe0u7gb+8lZXkxucGxtlCRny1T\n",
              "DfRLqyIvqU2iiDX7nQeklMyzabG099sAAAJjQZrnSeEPJlMCCP/+tSqAAcd7WUPEkn9E9fyYSYU6\n",
              "pPa7XBvtKp2ohC/eYZylbrxlJY9JmJ0ubohAF6qg8ObCQ1co4i714NPfwOzZaxnNUNCSnjb1Wjke\n",
              "Mpz/Zcg2/oq9qV81RLsAZa7QRy5gPk1d3GrFlA4XiVEDv5rnjzyMqs457zPsLzP4dCKOi06wqa6t\n",
              "ZJXQXx9X884U+rDNW+W6E5RqkqjQt0K3S+m6TgBBzOJUOjXDzrIiNl+t0qJ6d/DeAzP1byvilWx1\n",
              "tR5buTwyMLwVS9fqh84vbgF3yW904magXJk5p9sWtwGSQkGtwROaqY1JBW88wE7viFZdmJUXGLyb\n",
              "jxjgooZHSQLp8GICUD8ovJSs6iOCJPJNIrMrcbZFNJm1S2OILfFoh3T0duU+N+HMc6QI+8SUyjGu\n",
              "aVVY0NiAS5ZWk6a8cq1yMoSVUBeubmJJSKJ2u8Ou3at3hnjf91RYXmPSpF1a43kpXFQ6nK5ZDyyM\n",
              "Hz65oL/qt3MjGDQsxByWEYsrF61X3Vmd65bgovty68fJLET1nq1Yl9DSjYOGL9OTEdXW1nyOGjSe\n",
              "qIqe6AmA+SIFsJU0lILzb/7k2Uw65SzrVAMRX/F7xWo5YMV0UuPbDMR2+AouweO3wQVkRStH7NYl\n",
              "7WSQfErAcA6pYQt/Q2zxEdhyALcxVE7gYI43Z94MW90QIMHOPRVur3Nd7w4YhwikcyHN5xN6MJ30\n",
              "Z2pLBw0HDgx8sXdvRrBqwgw829GmeDwfesUWnSpurfx5J9FaXnYMy12qhu8wWRL+UNZg4lcG/1/W\n",
              "YLeu5A1mfmxsY4EAAAVFQZsLSeEPJlMCCP/+tSqAApRWxYAcCkhv72fCqfGocGfmA/32kdKhfTck\n",
              "EdY2XYmzobGPbkTkONulmmAAj9dm+GKtpi/NZ0gMPsMBVrpsIdf+hrL7oVp6T8OgX3DaTe2zXXSd\n",
              "nnKrk0uFePvawSfO3t8uaPknI2SS0zSyPNGjcvpfsWaurAuxTcM167nz1acVy3EZKT+akd9VLC49\n",
              "TBBBZjS0RKNZcmK1dhx4AdXvycyGOyd6pyixAAEiFxSyznIxIm72YkbSDn+K8YIIF0TGntJSeLM2\n",
              "vq8gXJM909j6wwWWG/P0GUiu/IVj+wNIHaepteAR1xk9lHJBJsCZ91LoA2z29TbnnLLWmj6R4+9Z\n",
              "yTeLmFJxYn5oXHsqk/SNuQJLCYD7JRxLOv0jWCoKT3p7AwFnWK1xQcATHQrdbIG/7WOEVOSntuXP\n",
              "oKJoNtAIa3QucCqOJJPC5n2w8L5ynWy1OtD53oGZIkK9A8RRZFY1CKT+54dPGEsGSogMpu2M8p9N\n",
              "6udyN0O9e1VcJKEGhpafO2eriCtsu+7SBnLCNGbp/Frt67D+9acdjDjujCmdbkpeH0zcIX83LQCD\n",
              "x6Ls8h9ictJYPTA4KQLZPRh6Z9550FqCOAT7fwXdCCGY0AMKQgPkbfV1iB+lAJ2S//khpgNnMmIY\n",
              "507Y3r2HgetoL6/ksFDtEgUoC5q3N3cVXvOj4aWxtYEqiCiLKN5XoScAo34DrJ8FEznPcH+touhD\n",
              "uwX5+vYImtOfRFRvbAnn3vB1Dt1QWGt7DrlzuZH2qyc1n72OWS0oZvrbzxkmruLK9zXfMIPWQWlH\n",
              "tBdfItPyVXLgd7pVtMBDblPJV3dZ2IfxHNjXUr2VylZyMKrq+nPvZQh3gzGetOIo2PxdgS9xzmeo\n",
              "Lu1FPcrq7ogylKQvLHPt/HfxHC3RRsV/tG/CBtyaWLfDbjMtY5NEVm5HAofEMI039WwddgvG16w5\n",
              "47mtLz0trMClHbarcV3TSIQu+naGkWIyjW2mxUBwMacd/+E9n6tL6D45BPuHM9SNLNRPgz+O4Ofz\n",
              "h53ib3pDW16LZ5x+XKj/hkCIspvsoMLDYkxlDuyNlnMJCqVuMrrfe+qpb3zFfyCu9wUb4WVc8eF2\n",
              "ej1K7d9cvVgUMDd4C0nV1VHsibqfTV3n1DgMlQOjrIsrPC+llb73iaSB7wPtqBxUVcqa02y45Bdc\n",
              "1c1WMUGnnUhri6vxEIZThtXlGSOPEBFV3dukymO8WEW0PpQIEm1q31HwEv/WcKIXcbLQoMGaP6t8\n",
              "FXSDxof+2rD6TL+D0iRuigoivu3g4SoJnV2FnS1yw/nNd9m5orh/MZALu6tLVlX2+kYqSxBRdRnK\n",
              "P5ImT6zXXOYh4QWquHe6vvULGJ4Dx1b67Jmb2xQobU7pQtdLjYmsNJ1TAhCd1myiYQvkPL7lLOP7\n",
              "bqqlCTcKjDGA9TLsw2XbgyxzOMtr/yZ/tClMCK5zptY+ZJyfhujZfigFUdZUoeRkTr8KZH6mNzM/\n",
              "6w4mOpgB0nUBAnDB9rJiZifAbWAzv07zgrWh6b0bb0AWjyP7smZyazUoBLGeB8LFzBc3W/8Ul5LU\n",
              "/o+g/v8d+CE7AhubeNJBqdAIw9C4HVHzXBX11+etMLXf0SWNhSRIA2D26xABBS7lV0lG9vGa6tFW\n",
              "YDLunCB1XZ5rfsHCKQnWzqLy2EO7ggxjpqTNEryKGe1N0kDqwQdLBXdKboQFgcF/MK4AnbIGDsHS\n",
              "CftO5wZ7CNiLky3Zg7/kqjN+euHDbI3nnq7tWQGxLYmSbFPeLHWi6zW4lh2OCN6zQuI4l4AAAAFn\n",
              "QZ8pRRE8O/8ACgOnFiv2recAH9ABD21kHVk5zwPb1NLNWG2Ff5iTMCQ8b1nD7NqVDxqeMyTz6cen\n",
              "CHv/9SyUfNtKdWXq0aJbc5UT6LdhD+0Y4lgVNNb1kpvwO850BVsC4LE3Y6mocLvsTuyrtcHkGq1G\n",
              "4GRXIBT0RizZaocRfEGOjAC8O7vuTEa3yIg/JjkmH32QBdI5cOLshM6fYXCKz7oAKtRrlFWOsTLI\n",
              "vGr5bTfMC3pRKMc0sWVkacRpe1UOBXtwoZRPuDrCW2WyLZVAQyfIh4Z5/Iy1zZb01Ea1IhU/yoqD\n",
              "/wOffoMr9N6vtJRm7GHznUyUtBrRdiLrsWbICl26KkFWRFGxzdAusAv6KMmhfoE2/vEiMlZVpXJ+\n",
              "u3d56Zats9UtYkJzYt1qeg96jyQlJyCBIyB2Wfvp6datIGZAN9QRtNFd3hF1sRiIib0KVAht8cRX\n",
              "Hwn3fot+XDogUfiIA2GtbqAAAAEJAZ9IdEN/AA+J9Jv3a0YtQQAXVcSXSwYirL2VHGxKqud/f25v\n",
              "942OPllVQSsnbyPAbjww6kf6WR44ArgAm66ieRylkEDO1sQQ2Qfq9j31/IrtB0S2jkx63b0IAYTB\n",
              "E18tVcEw17yjQgypB+CnDBkDglkyyjedmvP079RB1jSTWWxLA/85lrjDRqIP9gMrHE5H4zxt/znq\n",
              "+GvvMXbt1deakB/O1sz8I85SbgUDsYDnrzyhRnUY1xpk7aE4GHjm95md9nZ3EzKiaDiWeeJ/6Qj4\n",
              "nK2C8VK4SACq8kPU5m/NfxExbGktbk8wFjfYNY5Oe2zSsWlDWXstmtFeNQbzt/TCPw1py/KeEAAw\n",
              "IQAAAXEBn0pqQ38AD4d0VfMu+gA/pB+XAdGDsz59YY1MMjjaUx8KHZVn1XfFR5POHbhGqc0lvbIA\n",
              "Wwkh71XWNyNyWXwncGpQJYb2Vs022IZp1hqaXNQW0hIsdo1/6sOAVzKzfTPjYyS5iG++Pdwk+nq+\n",
              "9HuZoEqF9ZoW+WbscPsyrwUJ2BLyazSca06cDA7ZZWA0kYdOxoADlskiHJHGyerVj0+hYDYx1Z7e\n",
              "GwlerdkEbdRUZg1CimE6vUxYfQpl/Hslysi1Se0gEfzUrUko/qAVOy2hcULOK1+KIbzflfTZu+/2\n",
              "0ldJJmkw+tAOLy/oZ68aSZnwBawwLmlXW9Z+DcAQu7mazG4bYySTUD5VYsd37Ctg25T3x9wPOlFA\n",
              "iWoP3Zl/xE1yVahOH/ipOj8qF0A4s6pmK7fL10AktHUAbEf1rcETjMLcYiJm0qXrR6ESImsskG4E\n",
              "V61LM8wX2JzTq0SySkuj87twOaRgNig3H6hsW9AA4IAAAAQGQZtPSahBaJlMCCH//qpVAAqXfVAC\n",
              "dLNhsrKvOSpWGv71Fe0tOXpKOYA2djwCk/BjrmM2UTGngLj2eml9EJ4qwNuj7mKzuux67YnIsVeY\n",
              "xo0QuGfo73+9agMk3hYhtJb/7Va7or3aFxUrSRDvs4I0A5//BNBXhNaQDuMxnxkRek2ukz1x+R5J\n",
              "bYdpmKBGq74J4x0AqLLoq+G7omifP9jj2TG4YgyP2X/vHbtshDf8Pb3Spxilp+D5OqiR41EoxR07\n",
              "PhYiWUqGDf0EYELiVBLmT60As2dF5X4Nfka5+8I6cyZWe6n6j18weub8Lz4lKy0KsQZVdx9Idrv1\n",
              "hFx4cl8guSuFwY1N6PUdnr5fBHD93DQ/Y4CNm/ACvY47+oBphcpIPRW+3Uwirj722Z4C5ZiQax3P\n",
              "00NvF1zkn5BTbFN2gAsXfYDMA7F73SNqUPUta/rci6d1Mxr7q0oKkjpuwa6twY1/r3Qx9fDWIQc/\n",
              "IR/Mg/um/OLTJh+JPj5FJUEOQA8Lx1nosAKIyRQkEw7PigNlsjkWBg8T1cDCA1pkYzbc+CToNqGR\n",
              "sOp7ds7OyS6Fud8LLhFQi7uo8plL/MFifdoAS/wTp1RJr/CbvqtXi5XfHinWsWRbIwVniNupqKfn\n",
              "h/NfFYx5pKpBaGRxHAvio77TcSDEfLrFFBuyysdFr+VxkxlCFYJ+9r3T+hZUaJ6ZrgR0cYAoCnY1\n",
              "/tm1msLyD/6ogcToT3qrNMBm5bV3UOHw4bGyQU1nx4rOanZM2wEm73+zcSOEak4qeiVvqH9pAGDT\n",
              "FC8YliJBxu8/63wDDLF1CDqS6+YlmGQgY+TTdyWy2eiVFZBd1Lq+H4T8T4ocxhhggPD3vljGm24N\n",
              "anfeTxtNrcHqJe+ioYN9qeO1XdhuyHFYUa1mbRdGJKOxWakOIBiadovPFDWAb6NTnDDSox//x3nw\n",
              "yAIDtYPuYD2FNXdcmcOpMu4rsLeQZWSbWTqXK5NxtzdXYrwxc1JCvF9bfa9OrEpF+6SnNPCzSZ4d\n",
              "+3m3K2P7rn8PSSZdr5xLKs3QdEQEDJdOPA40zIvpaNi2IobNgMJ0iP1zebnWZSHX6jCsR/gK27fS\n",
              "1wEEtwgtw09JOEcz2Ek55Fmy3A68BphLEpfEgrsr5gZiSrx1LWMmCXq1uI4WMQH+BplvHgn7jN5r\n",
              "FibW91sMX9xNohnTpY7hSvB/GMJcguliQisfm+dEqnB4AKs0oK63gy9xXzpTH/ufcbK1A26ouOrA\n",
              "ojwuszgZZar8B7A15EGgZWGzaX4yAEw8ObgEoH1+pT/pD0kYcAbRcKkBJXlUik35zC8o1KGZU48Z\n",
              "i4QIGvhLg76NWqONZRmTzqoGmxb+uwvTuJ/lXA3jEnebPH9MvICJgAAAAdxBn21FESw7/wAKV5qA\n",
              "CdvfIUfkGVvziZXVmiNLRMy1pzEMeJp4gz3wKrMoCPOOPEEW1eru1cZZuib6JqcMlVW8TbcsI2z2\n",
              "a/Jo4wnJLEdSg+frMxcEO+boDEqp9VhVZR1RboLkkRFzU8MCaLudYo7D1b512QYGGVqZvzw6ZZBY\n",
              "LNFxsnBO86MnxFhZkLeHMgZ9Z6rxnck0Cv0DyVB10oj8Lsdu0o53Nem3LrvVjoXh3hJjyHNdOBhn\n",
              "IF3JCiYocXcEhvExOMo46px1Np28lFy7p7ONX3sUX8FNjB8cM29RkJm3XTxYhPbbSu1dYMh3Wztf\n",
              "qfBza3m7qfq8JNJ3qSi804ZdINM+QWk661UQmQn4PAiEipkYtv4bjT1Ki+oaytj4R8f4NEe7cS21\n",
              "DaBhHBJLTT9uVzU5t8QMh46ZUjOxNLdBGHaXEFOqFe6WsoCiKXAmI/vDZ0Ka8FSWqk70Hwdf+OFO\n",
              "2l9HsPzpZtVizpAIrsmmcmARIBtrzjxTL2IHaotMKTNVeMHuHbQ00PYZOGaq3Dcyq2gwUAMlj4Ng\n",
              "6ofjG9NGKZw7e8W+2zo5YmobpHYdrT9fOnaoHCWDUt9prsKTPlcnM6aHyF8hjAcU/Wp0+rldNm35\n",
              "oQqwC0e25wAAAbIBn4x0Q38AD4n1sc32t1aiIIAP1tibNaMfwOL7Sd/AfAsyAn1L4iQlBbK8F6AG\n",
              "m3L0SZCrk29e46FSgjJUpY1zbU0oSSZWjKG1LLyKKz4YkzZUTuZUeotE0Qt0MLRrBNc3K+5Lrgn9\n",
              "bUWGGKuaNfjadpPviMfsP9USZeL61jZs6YiofweNTyemkzA/JAmAuFsi2bB3C2vPhhUYlq3rtojm\n",
              "1wtTVpcQGBmh/Za7ogndpBRhvfNkUQhJORfxs+glckwU+po8viQR14+oxDKIrYFh3aN2dBFy4sG3\n",
              "XinVqhrTvjwc+SXX4R3Yx1H+PYXz0rz6I8wuQCAHwiBQmb+UwtwSdUO342b4FY8FdBKG6iAbLYmS\n",
              "05atwySGnHpY3jaUhIOqQjoahriBJKL2nklSpG7XT4zOyJP/bJsOZbpu5z8OAN97+sAueZMtbewI\n",
              "+DbQC0Ur0cjuuaBXCj3pYr906nTKeUdI612iHZJkCzGOJfYrl7FrA3ZrEb2MeeCD9uKX+y88mNDQ\n",
              "Ey5XKhbWanrzZTPGjGA3MEkrxQmQpFbDbRHjEKTd7MzMYagvtz4W8CcvmAADxwAAARABn45qQ38A\n",
              "D4d0HEJHcYvOXMgAJzm9mGEJwTee+a1WHCAzj+c6YGu7S/ySjHf8v3YghHUGe5NHXha1YZCxtTNP\n",
              "+R2n6xJCj+Mdiv4qBdbTZdmshshImqfXucoDPXZAupbjRuPjcX5uYLDrguwKc5JAoteTlTVm2Osu\n",
              "zEIu1uZ/2Sd5Sp3ed//pSrbgKgBeAgzHJHLwZSVZTUL0rs35roJ/SUjWHM2MbQ/ntGg7BTJjKu0+\n",
              "uQCqC1M1qeiYmAFIIJZGg5S+in/CZp3edn8Dm7FjJ/X2w+ieYMKTw2KihuSksuIstZ6tj/YxDe45\n",
              "C4CD9Ejuidev8/iewBECGc6APz4qx4PkBjsfjhcsm3urS0AR8QAAAx1Bm5BJqEFsmUwII//+tSqA\n",
              "BUyavQCtntlCyv0SUJt/pCbxVx6bJvl0/X7DUKRLAZK3hhlUNcpBNqlYMPhRIk22szTtw7NkPMZ+\n",
              "I2djIfzTIKZACYboEBCswDgY28HSydrYESy5J7fQwI0GxAjsgtNvBpAkKKOw/X3ix1uCMTMjDS9j\n",
              "7KbNOuwW2KFf2BoyE+l/4QrQ8errDXZyCzpd9qfxE+81x1AoQmH6CqwilEzQOJzu8b7IpvE0pVTu\n",
              "1j8HcP+8XvyBRoa3vg7Y8Ct110GNM2otZN+3mw+YfDfyvCvS/dikSHPle1c+99Yjeeiz0e7k4QJF\n",
              "yYkUOPglIwKPb1qQjVjOkNSeIqbJhiuXLTrjP5bZ5rs/AcymsnY+0d06scf/1pkGbIGZZBzo7C2S\n",
              "yKFPr3YsUtx0wjeSzyd47pSoqLyua8oeX4MPfGrSkTbFbqDnE6YzyZfzBkJsigmUWvYSt+mp103I\n",
              "fPWTvNr3si5zFI9+kJIX3S/fKD/ZDFn952LpCdlRym4UWhDvkN+pL2ucMWZLsGfSz00ryXTBZ7+X\n",
              "gcWMAIJ3FyRRhwv79uqfKw/mll4x/EiWoJGXsgZ5vAvGM9ehMXymBKRsROEbPxYh2N9VO75fXAUW\n",
              "XBI0XHoBTxUePzuGOvvaTN/zlV+6NPvns5NechCtUAkCNsVQD5OS1saf7C5e7PTPwOb62Zod7aVv\n",
              "Ce5yJdk6GiKol1gcnJysqzl9Ix5lO7DV485ucHqaXvx02g2X9D4UMir/h2gNDCrlGy4zjxYPFZ/I\n",
              "91MVuvgI1pj7gxugyWiZawnFS8dcf8DANmnSN2wf5K2E7Mc2nlt/qRAuu5h1usgAHpPvXcKmJKjE\n",
              "u0UH7rDSfSeuumP7bR1PHUNRGsjkrcCMUCCvYLH4ZtRJx2KaBn9lMWC7moE0Q48GmSPiqz+D/2ES\n",
              "QAOW7lQXah5ibLI2NzAOfipHvixu8WA7+HI/9+dgyz7K/I7vb4Kk96HflEdv6e1ijvxgBkeN+lts\n",
              "JZD31IiSrknDXfvlkccL6mARBscUjvMFzqP+rVWb8Z1paBsHAzOpuwAAA4tBm7JJ4QpSZTBRUsEf\n",
              "/rUqgAVwqGDACwXDFxYn/UAZUn3X67oyAv7a2mVDr7r6oNrTkRIW7YAzo+93DD1CSW8G8+IsJ/kT\n",
              "TaSaEYB9UdrxdvwnSXpY9RhRaaEKrLSeetZ/u0Fonrfkn7UIqv3J3Mc2DYE2GQp6KXpUNOTQMeHH\n",
              "BlwLi7t57EO5X6djWuY5qzWcJuys8A0qShOh4kXCaTJuwBtrXZEjdNSww9Fvm3taeQOYbC0Pq+dd\n",
              "5wEaSwTrjYGJOMB5Pf6rnkbVwAfuGYyP13mr0yVwPjnqn4VI7ZSp3xAOwDKi8xe3yNvwfvfAd6zF\n",
              "YLAyFHa/ZVWlP1gif1aJ17WhleHj/SGTZRQVZDsELjk7K7z/I2ePOwDS7XOUVhabMu5YPcRl/YCJ\n",
              "wVQMGrA8ARfVBj/3JlyxncvwiS6Z19+bB+tyTLlGLi4c3p7wOMMRrU2qAQYr1tUuFehOvqpSeYQK\n",
              "P72nvRv/KnUt8sq1sHTH4ychmZd/9HBLHAJIyt3rUQnsQqMSyaSL59vLemFNTGEuHDoM/HggPmgo\n",
              "XikEvrE47dnMHP3VuFzHEOZjXkoC9bISEbAMPt7DWYk2w1aMYoB72vCzbJ/uirx4fo6vPf0/DJTb\n",
              "zwv5G8i+JYWbj6Sa0JrJaj+H70zISwQdeYZ4Mvl2EYaS/DcqmqxuQAYzLjNUxFPfovs9d41+9kWl\n",
              "GGFPS7Yd5/NuD4uLdNGrq4YnsuYidJZcyc+dm+BUFRgPAHiJvCb8NNs7IIxosarqzqdyjwBtkE1L\n",
              "jke1Q2HfwBX5E9hFiblxwWZbe/81uDvWtYBiiTSzbLI4JCLbt5cFbIG+99AU7Elz4Me68DjXgEwU\n",
              "0azcGS7CfuDG3XfqbGSyplQIHdTY/vwi1rVpXjw3V12qfc3Mp0qCKfMccPibZMTOLSbyjP3D6CSM\n",
              "mg+5ILbzCrZ4DbqZvRXerB9trisxAWHTdwR2ady2OApSbewWHZG+5N2BtGE6c/iRxgEnNR0LoHwc\n",
              "PJ+686keJCKrGlQOKvW7j+ySBYNwO964RNO2lFTlD0H2E4IqahAsGXsCSg62f1YkDdVfJZCDQ1Xs\n",
              "uSWm0uEkcByYaryRDv1uSxAp8nxxJaP5cHzCYKBV6LaUZKGMy3Vd5fW4RBZvqkh7yAZQTCGG6f7V\n",
              "ZIqpO8YzVE230dPmHKYTzXPLfW76llmpXZRqPQM+am9cfK/95gTAAAAA5gGf0WpDfwAdsoifPn31\n",
              "gBa92k6Y1ksPMwnHetVZjvjuXkideBC65RNu5wodR5AoNIVEVJRWvMjb4gLhEnJZYfZGBhR8sYqk\n",
              "iXKBbdjXkQxzxVyySB+C/l1cb4jMvdlQ5K8Mua4t0HQrTJIj/u1acyu4bEc9IIaGzVULnT/E9M43\n",
              "KsOV289kMSDp350PGeZd7IbQiD/udHEyB9K3rzpRMtccxcGJKfjOwKMLB5AaZxav3AYVh02h4vxo\n",
              "6a7c1OhAWVy7GXpUpcTDjYNuAKBP1JFs2HybnYw4Bk6x1fZSsA7v5cEAAN6BAAADOkGb1knhDomU\n",
              "wII//rUqgAVwp/aAFauGLi43V9Em9hJOL7uwpuh63FIF880Uvt2POWonpCzREjXA8ZfDK0jUmMbu\n",
              "2jGtGt3RcBu5urclVwt3mqvins4WytcKP0IWYZa8vX3iGPty64O8ea3ufbk23Qzn1C9mjHAT0Pef\n",
              "ctVm/tXq5WlRntswwaF9XZ7dj8GXHL1foMcPN89fto1zX3+ZR1T+YJWsU5MZXAQ987m6sjnrHYXT\n",
              "em518glfCgABI+RalzSk1MYsmG8gboffRCiXF05W90pbMV/jvxB2rMovdgR/6p5SjJztG8AOJdl/\n",
              "mBFCPc7aXJ9MlM9te5y2n0m1PKTl01glB2ORxnLq8hL+ONzjTCcZYzWk3MeT0kDG5MlboPDFJS7N\n",
              "8Nirbnx+1LYrOgTgE4oZoDj/TjKrLEaCN6c2CM0i+j39whek/j257AD0rZ3V1xh4g+9xmKBZ6z1e\n",
              "MS//JTtrHIKXLfOMH/VreV+f3NSs4Wteuanpn7mSRy24IEsJrS7OPtxHa/R1ZZTa5qN6E24YpkxC\n",
              "/cWv3SFDC/ik9Pz3yjWDtJBZHtoFzAl9d0BL8TD7vA448/iO+XkEwSbNOLfV+YqdLGNro9DYG4dd\n",
              "zZhgEuISUQSUNyDuHmQ/JfpT0BUpsICofqyqkMcJLkSuIH1MBPdQslz+AyTVx8cuRFwP3uWAV/5f\n",
              "X67kdBe+VSfXJFh1rpojwlEpT3a+GJclGbJKm6KFpFctGgt/ulf4tqsWbp25oMaJDUk5Ya1Q09A/\n",
              "mB76zeTdJNl891YmwUQ/o3RndtkjXbqi3dIKIzpadlAB279zsU7NHjX7cobqjuaYa3Og07ieq2yW\n",
              "/qHAb7qVJpaJqt1nY7J0+xwchvnD65FZq/ZsxcrMUw/nBmfI3urPK4aYCf0NaCr9oHQ/oz+6oWBo\n",
              "xSijWCsvudNx2dsBembuGGs2aWXfuWt58nBiGWllUU9wy6ESSK6gONnmQDLPMHp0i538jW9a/8M7\n",
              "kCOXiaF65yQ6iAwg+1mc/hrPAZpqiSDDbR93gANyH1qtFeb29EoLfPSrU4btfjTkOVwRwa2k+Zm3\n",
              "xmNhnoH2/3oD4rR9T65dyJ2AB0wAAAEhQZ/0RRU8O/8AFTVgSsFhxKdAC03wAbodtu2P8/wyabhV\n",
              "AOva+wzz5OXN4b6A98dDxWBWhTxVBfJ/65evi1rkXZ1Cte/eThQI3tVNXoMnaDSjYDwN9p6uQjiJ\n",
              "GyJsRKk/Gb7GA+NAdVmlK2zJShyCyU7Vuo98YRsc8wlB8jVIDYtGT9fYTlBQynJfzDwN+5TuXgUM\n",
              "dGTKeLOysqoMw2cSUDbURSt1/fKvjzzHJuKNaaB0B+99NvbBvUOJgVlrn/oN9gNPMAgmKtFvFHLH\n",
              "zdOJz5zWBKS506wfA/NDW1N5T2a1PGIFv/583w0nF28PUO+n3agh1VXrqJi3lOjWH3aRk6FykRRz\n",
              "JZONYtmkSfzJ4P2ZP0LvoS/9hdAXgAnuY/h/MAAAALABnhN0Q38ADqk+0wmQAld0CVNon9ZDuD+4\n",
              "eci3hOQ3Q6v5L8ifwKgKOPOai+BucLMXO5AXOi3sDwR/pAEsVi+zZqHoeZqcyimqjYXzD+7pim0W\n",
              "iBgRG9/Y7JG6PwYMVcv/RpKM2p6tmV1AzN9yxMMfcqj7z33pL0jEQ0N73ybUWWyegNhCMfyQiY+p\n",
              "zLrqMUbHTWkuZdfhH7NAKRcPfeAPoUT27hJPxvLE2/Ar9MABLwAAAGwBnhVqQ38AHa7hjs8Cu7hW\n",
              "lAAukQvq/iYPRtWNWarnYJb0ach39ogp0IW6qgBoLDrywMKA9DquPrdx29rHwgT0kTbP6tjUVILx\n",
              "jYVRKEcT0KNScldfje5KuJMwxlT+IhZ3EdAXghJogEAAG9AAAAKBQZoaSahBaJlMCCP//rUqgAK4\n",
              "6BJIVxAEfHekDcfjRymTl8tuNK1mo7FUFLJizjRtB/dl2quvX2vjRFnQpNS5K4EYYEGuDyCEk+tB\n",
              "DRwYgY3Ggo57wSd56e0yCKCTcN5h+LNoV6wnhcLpg3ZBkFhQ85gNMp1lQgDBGnvNnRpAKKdFcWle\n",
              "jvLkaPMFfzG/R5fuWwPCcxFS8duutt2BuGATCux3fksSn99WsEVhSX10JzSWNcOyxLlc4DyWPYfM\n",
              "spatCamOE/73SjIcGemS6E7fCvdU/+KjeUGXh0JnLaM2aE2lYY6QWXg4J5Ihda7RyTe7Jf5wBLlF\n",
              "ql3ObWGwkXziyMT9y8vYsFlzwtvtwhUIdhaOYDNqBkY7hHANsbHp0mVY93wYIlcBSiEX047bfBvz\n",
              "9K4fh3xiqB60iAdP0UUWUYY3trY46pINNDdQVwj9jZjSluNmSLy7PetTtmYesv74Hlk8cCls25FJ\n",
              "TPBAdMBnXrwv4svVo2aUIJsBGBqrSQdf14yo7/HWaOzQUVT9QDr1Ul7aDsc83U+6ikYzibWSMYOM\n",
              "Ia/fFOhJpBzxxIGU8BFSE09ECZykQvRRBF27Fi1bB3xL/KmYuqmMEBqSG4ERhmTgcoeqTAkvVG8l\n",
              "g+miDiwODJOFSrziRNVo72HwGLepJ5EDvsTFTqllZ7F1yKM0k7Oa+LVufaZJwRsadUAb5yVOHuRU\n",
              "lx3a5JYJeyHuMa/xwDFCsQ0/vyAAzS8aUtoWXaVl5mVaCBB6Lzrxe9zcUBXy90IfVoJ1OqQqhbwX\n",
              "p+wx/8QUfvwELhShovIizLLbxeKvv7W8YXFy1Nt4fOFdGBSdpmL/h7A6WwGFprwVd0WPi7kAAABh\n",
              "QZ44RREsO/8ACyuGYhT0f3qUMbbSh4uYCP3+H8HAC6jBSCuz6VloNLr/xh2DAG1apeG0r12fV4SH\n",
              "dEGuWwT1p73axX2Ygo8W+PBCpuFH5+x3hlqlNvtKJoPPKAAIMSDYgQAAACEBnld0Q38AB1fzLGGd\n",
              "BIkC7MugA8wNVlmiIe5+jxQAAfkAAAARAZ5ZakN/AAHhUGWeXQOAArcAAAGUQZpeSahBbJlMCCP/\n",
              "/rUqgAK5mtqLACMMZPnc2T1pz80viXl3m0pDVX3Oaq+B9XMvDeGaQ/UFSL5RAjSyqd/bxjoMrmcb\n",
              "716e3kCr812e3bEtM/7NKjgEc/q67MSLSDAPRb34tRTh9rbXyt19XKQ06ljlQVFMWtEYxB3yNOaY\n",
              "BoERMGtXd8m/gfgenmoGRXm2Gp+sIp/HWF357eQ/qtmcxIM+UIgXN3y6KU1ZdbvFhjRweE1qKAM/\n",
              "UJCBTHA0zXPcmPs4WUUgrGY2xVySkL/vjPLumvNv1F+ISG0UtSFQ94UYdUblGw0wN5mG7TICPMS/\n",
              "0AhIfFIC4tbgN/BBFaWMrExpQpN+8YPQ7Q+Gc6kUUhXRpuYS423m+qW5b3yOmFNYRzLgoy0WIjNT\n",
              "zfJeJI6W74l98gHUXJZCqrSBIFt/ywPZYVN82Tvc/ts0o1iJnUNfoReLhmtHOwH8xUevbZmBZIUs\n",
              "7+/ubAi3xa40Wy95u2AC/iYIwFgAUomG2Ka1wsddVsb4cAK0/etVpuYZL50bry1EsKAAAAAfQZ58\n",
              "RRUsO/8ACyuGVkVc4ZckUG8BlGNk7wAxS5pZQQAAABcBnpt0Q38AB2tOsvcLE8hKko/GqDAB0wAA\n",
              "ABEBnp1qQ38ABpgDWO0YMABLwAAAALJBmoJJqEFsmUwIIf/+qlUAArejTAAOFTH++U1Fmip5ilTq\n",
              "qNtdxw5PcJH5wfWl/M+s8Wzhu0Jn3IKPHrqQTNw5a0GEMIk7Lx92tM0KoyQcpI0ZTn6LxkPZn0G6\n",
              "GN2awsHFuz/ePEmfshHsWUnxWU653ixCXn/5/IhvcG30AtqNzEq4HkRNTtI32aZdW1ld6F0+KsB+\n",
              "qONVrEnU0Uwg+zOXkxXeRGFP954XGvOikCgAgAf4AAAAGkGeoEUVLDv/AAsrhgYiVaBI0h56UAUF\n",
              "H2hBAAAADQGe33RDfwAAAwAADegAAAANAZ7BakN/AAADAAAN6QAAADpBmsZJqEFsmUwId//+qZYA\n",
              "Cpnlc6T2kDgArrYxrOne68zsFksblAGPYDo1IH5Z207YMXDJVj9cAFbAAAAAGkGe5EUVLDv/AAsr\n",
              "hgYiVaBIw61DagCKfK0JAAAADwGfA3RDfwAAzfV/MACkgQAAAA8BnwVqQ38AANK3SrMABx0AAAAW\n",
              "QZsHSahBbJlMCG///qeEAAADAAAm4QAABNdtb292AAAAbG12aGQAAAAAAAAAAAAAAAAAAAPoAAAP\n",
              "oAABAAABAAAAAAAAAAAAAAAAAQAAAAAAAAAAAAAAAAAAAAEAAAAAAAAAAAAAAAAAAEAAAAAAAAAA\n",
              "AAAAAAAAAAAAAAAAAAAAAAAAAAAAAAACAAAEAXRyYWsAAABcdGtoZAAAAAMAAAAAAAAAAAAAAAEA\n",
              "AAAAAAAPoAAAAAAAAAAAAAAAAAAAAAAAAQAAAAAAAAAAAAAAAAAAAAEAAAAAAAAAAAAAAAAAAEAA\n",
              "AAAB9AAAAZAAAAAAACRlZHRzAAAAHGVsc3QAAAAAAAAAAQAAD6AAAAgAAAEAAAAAA3ltZGlhAAAA\n",
              "IG1kaGQAAAAAAAAAAAAAAAAAACgAAACgAFXEAAAAAAAtaGRscgAAAAAAAAAAdmlkZQAAAAAAAAAA\n",
              "AAAAAFZpZGVvSGFuZGxlcgAAAAMkbWluZgAAABR2bWhkAAAAAQAAAAAAAAAAAAAAJGRpbmYAAAAc\n",
              "ZHJlZgAAAAAAAAABAAAADHVybCAAAAABAAAC5HN0YmwAAAC0c3RzZAAAAAAAAAABAAAApGF2YzEA\n",
              "AAAAAAAAAQAAAAAAAAAAAAAAAAAAAAAB9AGQAEgAAABIAAAAAAAAAAEAAAAAAAAAAAAAAAAAAAAA\n",
              "AAAAAAAAAAAAAAAAAAAAAAAY//8AAAAyYXZjQwFkABb/4QAZZ2QAFqzZQIAz5+EAAAMAAQAAAwAU\n",
              "DxYtlgEABmjr48siwAAAABx1dWlka2hA8l8kT8W6OaUbzwMj8wAAAAAAAAAYc3R0cwAAAAAAAAAB\n",
              "AAAAKAAABAAAAAAUc3RzcwAAAAAAAAABAAAAAQAAARhjdHRzAAAAAAAAACEAAAAIAAAIAAAAAAEA\n",
              "ABQAAAAAAQAACAAAAAABAAAAAAAAAAEAAAQAAAAAAQAAFAAAAAABAAAIAAAAAAEAAAAAAAAAAQAA\n",
              "BAAAAAABAAAIAAAAAAEAAAwAAAAAAQAABAAAAAABAAAUAAAAAAEAAAgAAAAAAQAAAAAAAAABAAAE\n",
              "AAAAAAEAABQAAAAAAQAACAAAAAABAAAAAAAAAAEAAAQAAAAAAQAAFAAAAAABAAAIAAAAAAEAAAAA\n",
              "AAAAAQAABAAAAAABAAAUAAAAAAEAAAgAAAAAAQAAAAAAAAABAAAEAAAAAAEAABQAAAAAAQAACAAA\n",
              "AAABAAAAAAAAAAEAAAQAAAAAAQAACAAAAAAcc3RzYwAAAAAAAAABAAAAAQAAACgAAAABAAAAtHN0\n",
              "c3oAAAAAAAAAAAAAACgAABdvAAACZwAAA88AAANDAAACzAAAAtUAAAJaAAACZwAABUkAAAFrAAAB\n",
              "DQAAAXUAAAQKAAAB4AAAAbYAAAEUAAADIQAAA48AAADqAAADPgAAASUAAAC0AAAAcAAAAoUAAABl\n",
              "AAAAJQAAABUAAAGYAAAAIwAAABsAAAAVAAAAtgAAAB4AAAARAAAAEQAAAD4AAAAeAAAAEwAAABMA\n",
              "AAAaAAAAFHN0Y28AAAAAAAAAAQAAACwAAABidWR0YQAAAFptZXRhAAAAAAAAACFoZGxyAAAAAAAA\n",
              "AABtZGlyYXBwbAAAAAAAAAAAAAAAAC1pbHN0AAAAJal0b28AAAAdZGF0YQAAAAEAAAAATGF2ZjU3\n",
              "LjgzLjEwMA==\n",
              "\">\n",
              "  Your browser does not support the video tag.\n",
              "</video>"
            ],
            "text/plain": [
              "<matplotlib.animation.FuncAnimation at 0x7ff5134e6390>"
            ]
          },
          "metadata": {
            "tags": []
          },
          "execution_count": 12
        }
      ]
    },
    {
      "metadata": {
        "id": "guyx5afAuj1w",
        "colab_type": "code",
        "colab": {}
      },
      "cell_type": "code",
      "source": [
        ""
      ],
      "execution_count": 0,
      "outputs": []
    }
  ]
}