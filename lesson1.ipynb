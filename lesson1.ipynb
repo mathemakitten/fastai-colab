{
  "nbformat": 4,
  "nbformat_minor": 0,
  "metadata": {
    "colab": {
      "name": "lesson1.ipynb",
      "version": "0.3.2",
      "provenance": [],
      "collapsed_sections": [],
      "include_colab_link": true
    },
    "kernelspec": {
      "name": "python3",
      "display_name": "Python 3"
    },
    "accelerator": "GPU"
  },
  "cells": [
    {
      "cell_type": "markdown",
      "metadata": {
        "id": "view-in-github",
        "colab_type": "text"
      },
      "source": [
        "<a href=\"https://colab.research.google.com/github/mathemakitten/fastai-colab/blob/master/lesson1.ipynb\" target=\"_parent\"><img src=\"https://colab.research.google.com/assets/colab-badge.svg\" alt=\"Open In Colab\"/></a>"
      ]
    },
    {
      "metadata": {
        "id": "mb8iO7Sr8pNv",
        "colab_type": "text"
      },
      "cell_type": "markdown",
      "source": [
        "# Using Convolutional Neural Networks"
      ]
    },
    {
      "metadata": {
        "id": "6XxtXRUC8pNx",
        "colab_type": "text"
      },
      "cell_type": "markdown",
      "source": [
        "Welcome to the first week of the first deep learning certificate! We're going to use convolutional neural networks (CNNs) to allow our computer to see - something that is only possible thanks to deep learning."
      ]
    },
    {
      "metadata": {
        "id": "4Bv7WP4p8pNx",
        "colab_type": "text"
      },
      "cell_type": "markdown",
      "source": [
        "## Introduction to this week's task: 'Dogs vs Cats'"
      ]
    },
    {
      "metadata": {
        "id": "8RFePcjo8pNz",
        "colab_type": "text"
      },
      "cell_type": "markdown",
      "source": [
        "We're going to try to create a model to enter the [Dogs vs Cats](https://www.kaggle.com/c/dogs-vs-cats) competition at Kaggle. There are 25,000 labelled dog and cat photos available for training, and 12,500 in the test set that we have to try to label for this competition. According to the Kaggle web-site, when this competition was launched (end of 2013): *\"**State of the art**: The current literature suggests machine classifiers can score above 80% accuracy on this task\"*. So if we can beat 80%, then we will be at the cutting edge as of 2013!"
      ]
    },
    {
      "metadata": {
        "id": "mD9dT_QY8pN2",
        "colab_type": "text"
      },
      "cell_type": "markdown",
      "source": [
        "## Basic setup"
      ]
    },
    {
      "metadata": {
        "id": "l-FnrbdT8pN2",
        "colab_type": "text"
      },
      "cell_type": "markdown",
      "source": [
        "There isn't too much to do to get started - just a few simple configuration steps.\n",
        "\n",
        "This shows plots in the web page itself - we always wants to use this when using jupyter notebook:"
      ]
    },
    {
      "metadata": {
        "id": "utNl4cwx8pN3",
        "colab_type": "code",
        "colab": {}
      },
      "cell_type": "code",
      "source": [
        "%matplotlib inline"
      ],
      "execution_count": 0,
      "outputs": []
    },
    {
      "metadata": {
        "id": "1JJgjAgqFJYJ",
        "colab_type": "code",
        "colab": {
          "base_uri": "https://localhost:8080/",
          "height": 52
        },
        "outputId": "a93a1cbf-1e70-471e-dc2c-26532f97dcf1"
      },
      "cell_type": "code",
      "source": [
        "!pip install bcolz\n",
        "from importlib import reload"
      ],
      "execution_count": 50,
      "outputs": [
        {
          "output_type": "stream",
          "text": [
            "Requirement already satisfied: bcolz in /usr/local/lib/python3.6/dist-packages (1.2.1)\n",
            "Requirement already satisfied: numpy>=1.7 in /usr/local/lib/python3.6/dist-packages (from bcolz) (1.14.6)\n"
          ],
          "name": "stdout"
        }
      ]
    },
    {
      "metadata": {
        "id": "u7PU8wSu8pN6",
        "colab_type": "text"
      },
      "cell_type": "markdown",
      "source": [
        "Define path to data: (It's a good idea to put it in a subdirectory of your notebooks folder, and then exclude that directory from git control by adding it to .gitignore.)"
      ]
    },
    {
      "metadata": {
        "id": "0DeC7lIC9RZm",
        "colab_type": "code",
        "colab": {
          "base_uri": "https://localhost:8080/",
          "height": 208
        },
        "outputId": "c3af2af0-1382-4eb2-eb24-94f1f91df1fc"
      },
      "cell_type": "code",
      "source": [
        "!wget http://files.fast.ai/data/dogscats.zip"
      ],
      "execution_count": 40,
      "outputs": [
        {
          "output_type": "stream",
          "text": [
            "--2018-12-29 04:13:55--  http://files.fast.ai/data/dogscats.zip\n",
            "Resolving files.fast.ai (files.fast.ai)... 67.205.15.147\n",
            "Connecting to files.fast.ai (files.fast.ai)|67.205.15.147|:80... connected.\n",
            "HTTP request sent, awaiting response... 200 OK\n",
            "Length: 857214334 (818M) [application/zip]\n",
            "Saving to: ‘dogscats.zip.3’\n",
            "\n",
            "dogscats.zip.3      100%[===================>] 817.50M   105MB/s    in 8.0s    \n",
            "\n",
            "2018-12-29 04:14:03 (102 MB/s) - ‘dogscats.zip.3’ saved [857214334/857214334]\n",
            "\n"
          ],
          "name": "stdout"
        }
      ]
    },
    {
      "metadata": {
        "id": "ZweITkDO9VPg",
        "colab_type": "code",
        "colab": {
          "base_uri": "https://localhost:8080/",
          "height": 104
        },
        "outputId": "76cc39a3-ab03-46e3-e586-6517dbb08f8b"
      },
      "cell_type": "code",
      "source": [
        "!pwd\n",
        "!ls\n",
        "\n",
        "import zipfile\n",
        "zip_ref = zipfile.ZipFile('dogscats.zip', 'r')\n",
        "zip_ref.extractall('')\n",
        "zip_ref.close()\n",
        "\n",
        "!ls"
      ],
      "execution_count": 41,
      "outputs": [
        {
          "output_type": "stream",
          "text": [
            "/content\n",
            "dogscats      dogscats.zip.1  dogscats.zip.3  sample_data  vgg16bn.py\n",
            "dogscats.zip  dogscats.zip.2  __pycache__     utils.py\t   vgg16.py\n",
            "dogscats      dogscats.zip.1  dogscats.zip.3  sample_data  vgg16bn.py\n",
            "dogscats.zip  dogscats.zip.2  __pycache__     utils.py\t   vgg16.py\n"
          ],
          "name": "stdout"
        }
      ]
    },
    {
      "metadata": {
        "id": "jV9-tswsCLdd",
        "colab_type": "code",
        "colab": {
          "base_uri": "https://localhost:8080/",
          "height": 35
        },
        "outputId": "eb95b0e9-6f4f-4e59-e49d-27e3b1cbffce"
      },
      "cell_type": "code",
      "source": [
        "!ls dogscats"
      ],
      "execution_count": 42,
      "outputs": [
        {
          "output_type": "stream",
          "text": [
            "models\tsample\ttest1  train  valid\n"
          ],
          "name": "stdout"
        }
      ]
    },
    {
      "metadata": {
        "id": "nLGsUJqe8pN8",
        "colab_type": "code",
        "colab": {}
      },
      "cell_type": "code",
      "source": [
        "# path = \"data/dogscats/\"\n",
        "#path = \"data/dogscats/sample/\"\n",
        "path = \"dogscats/sample/\""
      ],
      "execution_count": 0,
      "outputs": []
    },
    {
      "metadata": {
        "id": "JNpGxWYP8pN_",
        "colab_type": "text"
      },
      "cell_type": "markdown",
      "source": [
        "A few basic libraries that we'll need for the initial exercises:"
      ]
    },
    {
      "metadata": {
        "id": "DIfEHxGL8pN_",
        "colab_type": "code",
        "colab": {}
      },
      "cell_type": "code",
      "source": [
        "from __future__ import division,print_function\n",
        "\n",
        "import os, json\n",
        "from glob import glob\n",
        "import numpy as np\n",
        "np.set_printoptions(precision=4, linewidth=100)\n",
        "from matplotlib import pyplot as plt"
      ],
      "execution_count": 0,
      "outputs": []
    },
    {
      "metadata": {
        "id": "i1oO8_wd8pOD",
        "colab_type": "text"
      },
      "cell_type": "markdown",
      "source": [
        "We have created a file most imaginatively called 'utils.py' to store any little convenience functions we'll want to use. We will discuss these as we use them."
      ]
    },
    {
      "metadata": {
        "id": "k-XFJ4lRDIbC",
        "colab_type": "code",
        "colab": {
          "base_uri": "https://localhost:8080/",
          "height": 208
        },
        "outputId": "99329d28-178d-4e7d-c412-f045a50f1336"
      },
      "cell_type": "code",
      "source": [
        "!wget 'https://raw.githubusercontent.com/mathemakitten/fastai-colab/master/utils.py'"
      ],
      "execution_count": 45,
      "outputs": [
        {
          "output_type": "stream",
          "text": [
            "--2018-12-29 04:14:26--  https://raw.githubusercontent.com/mathemakitten/fastai-colab/master/utils.py\n",
            "Resolving raw.githubusercontent.com (raw.githubusercontent.com)... 151.101.0.133, 151.101.64.133, 151.101.128.133, ...\n",
            "Connecting to raw.githubusercontent.com (raw.githubusercontent.com)|151.101.0.133|:443... connected.\n",
            "HTTP request sent, awaiting response... 200 OK\n",
            "Length: 7953 (7.8K) [text/plain]\n",
            "Saving to: ‘utils.py.1’\n",
            "\n",
            "\rutils.py.1            0%[                    ]       0  --.-KB/s               \rutils.py.1          100%[===================>]   7.77K  --.-KB/s    in 0s      \n",
            "\n",
            "2018-12-29 04:14:26 (70.0 MB/s) - ‘utils.py.1’ saved [7953/7953]\n",
            "\n"
          ],
          "name": "stdout"
        }
      ]
    },
    {
      "metadata": {
        "id": "P8UL7LMlJNTm",
        "colab_type": "code",
        "colab": {
          "base_uri": "https://localhost:8080/",
          "height": 52
        },
        "outputId": "ae1600e3-2a2f-4d23-951f-022717a76acb"
      },
      "cell_type": "code",
      "source": [
        "!ls"
      ],
      "execution_count": 46,
      "outputs": [
        {
          "output_type": "stream",
          "text": [
            "dogscats      dogscats.zip.1  dogscats.zip.3  sample_data  utils.py.1  vgg16.py\n",
            "dogscats.zip  dogscats.zip.2  __pycache__     utils.py\t   vgg16bn.py\n"
          ],
          "name": "stdout"
        }
      ]
    },
    {
      "metadata": {
        "id": "vwKH6XMVJv39",
        "colab_type": "code",
        "colab": {
          "base_uri": "https://localhost:8080/",
          "height": 208
        },
        "outputId": "58eb8afc-9248-4420-ae40-e771e48c6b7a"
      },
      "cell_type": "code",
      "source": [
        "!rm utils.py*\n",
        "!wget https://raw.githubusercontent.com/mathemakitten/fastai-colab/master/utils.py\n"
      ],
      "execution_count": 47,
      "outputs": [
        {
          "output_type": "stream",
          "text": [
            "--2018-12-29 04:14:28--  https://raw.githubusercontent.com/mathemakitten/fastai-colab/master/utils.py\n",
            "Resolving raw.githubusercontent.com (raw.githubusercontent.com)... 151.101.0.133, 151.101.64.133, 151.101.128.133, ...\n",
            "Connecting to raw.githubusercontent.com (raw.githubusercontent.com)|151.101.0.133|:443... connected.\n",
            "HTTP request sent, awaiting response... 200 OK\n",
            "Length: 7953 (7.8K) [text/plain]\n",
            "Saving to: ‘utils.py’\n",
            "\n",
            "\rutils.py              0%[                    ]       0  --.-KB/s               \rutils.py            100%[===================>]   7.77K  --.-KB/s    in 0s      \n",
            "\n",
            "2018-12-29 04:14:28 (63.9 MB/s) - ‘utils.py’ saved [7953/7953]\n",
            "\n"
          ],
          "name": "stdout"
        }
      ]
    },
    {
      "metadata": {
        "id": "UXqomy2pSgU5",
        "colab_type": "code",
        "colab": {
          "base_uri": "https://localhost:8080/",
          "height": 399
        },
        "outputId": "6f23eb11-7f57-4114-f773-e3d381f7c8ae"
      },
      "cell_type": "code",
      "source": [
        "!rm vgg16.py*\n",
        "!rm vgg16bn.py*\n",
        "!wget https://raw.githubusercontent.com/mathemakitten/fastai-colab/master/vgg16.py\n",
        "!wget https://raw.githubusercontent.com/mathemakitten/fastai-colab/master/vgg16bn.py"
      ],
      "execution_count": 48,
      "outputs": [
        {
          "output_type": "stream",
          "text": [
            "--2018-12-29 04:14:30--  https://raw.githubusercontent.com/mathemakitten/fastai-colab/master/vgg16.py\n",
            "Resolving raw.githubusercontent.com (raw.githubusercontent.com)... 151.101.0.133, 151.101.64.133, 151.101.128.133, ...\n",
            "Connecting to raw.githubusercontent.com (raw.githubusercontent.com)|151.101.0.133|:443... connected.\n",
            "HTTP request sent, awaiting response... 200 OK\n",
            "Length: 8626 (8.4K) [text/plain]\n",
            "Saving to: ‘vgg16.py’\n",
            "\n",
            "\rvgg16.py              0%[                    ]       0  --.-KB/s               \rvgg16.py            100%[===================>]   8.42K  --.-KB/s    in 0s      \n",
            "\n",
            "2018-12-29 04:14:30 (58.7 MB/s) - ‘vgg16.py’ saved [8626/8626]\n",
            "\n",
            "--2018-12-29 04:14:31--  https://raw.githubusercontent.com/mathemakitten/fastai-colab/master/vgg16bn.py\n",
            "Resolving raw.githubusercontent.com (raw.githubusercontent.com)... 151.101.0.133, 151.101.64.133, 151.101.128.133, ...\n",
            "Connecting to raw.githubusercontent.com (raw.githubusercontent.com)|151.101.0.133|:443... connected.\n",
            "HTTP request sent, awaiting response... 200 OK\n",
            "Length: 4681 (4.6K) [text/plain]\n",
            "Saving to: ‘vgg16bn.py’\n",
            "\n",
            "vgg16bn.py          100%[===================>]   4.57K  --.-KB/s    in 0s      \n",
            "\n",
            "2018-12-29 04:14:31 (49.0 MB/s) - ‘vgg16bn.py’ saved [4681/4681]\n",
            "\n"
          ],
          "name": "stdout"
        }
      ]
    },
    {
      "metadata": {
        "scrolled": false,
        "id": "9fYu-u6C8pOF",
        "colab_type": "code",
        "colab": {}
      },
      "cell_type": "code",
      "source": [
        "import utils; reload(utils)\n",
        "from utils import plots"
      ],
      "execution_count": 0,
      "outputs": []
    },
    {
      "metadata": {
        "id": "tV6VQzgm8pOK",
        "colab_type": "text"
      },
      "cell_type": "markdown",
      "source": [
        "# Use a pretrained VGG model with our **Vgg16** class"
      ]
    },
    {
      "metadata": {
        "id": "TLCy3wcg8pON",
        "colab_type": "text"
      },
      "cell_type": "markdown",
      "source": [
        "Our first step is simply to use a model that has been fully created for us, which can recognise a wide variety (1,000 categories) of images. We will use 'VGG', which won the 2014 Imagenet competition, and is a very simple model to create and understand. The VGG Imagenet team created both a larger, slower, slightly more accurate model (*VGG  19*) and a smaller, faster model (*VGG 16*). We will be using VGG 16 since the much slower performance of VGG19 is generally not worth the very minor improvement in accuracy.\n",
        "\n",
        "We have created a python class, *Vgg16*, which makes using the VGG 16 model very straightforward. "
      ]
    },
    {
      "metadata": {
        "id": "BDnaMBUx8pOO",
        "colab_type": "text"
      },
      "cell_type": "markdown",
      "source": [
        "## The punchline: state of the art custom model in 7 lines of code\n",
        "\n",
        "Here's everything you need to do to get >97% accuracy on the Dogs vs Cats dataset - we won't analyze how it works behind the scenes yet, since at this stage we're just going to focus on the minimum necessary to actually do useful work."
      ]
    },
    {
      "metadata": {
        "id": "8GSkA_Tz8pOQ",
        "colab_type": "code",
        "colab": {}
      },
      "cell_type": "code",
      "source": [
        "# As large as you can, but no larger than 64 is recommended. \n",
        "# If you have an older or cheaper GPU, you'll run out of memory, so will have to decrease this.\n",
        "#batch_size=64\n",
        "batch_size=4"
      ],
      "execution_count": 0,
      "outputs": []
    },
    {
      "metadata": {
        "id": "tCduba_Y8pOU",
        "colab_type": "code",
        "colab": {}
      },
      "cell_type": "code",
      "source": [
        "# Import our class, and instantiate\n",
        "import vgg16; reload(vgg16)\n",
        "from vgg16 import Vgg16"
      ],
      "execution_count": 0,
      "outputs": []
    },
    {
      "metadata": {
        "id": "fZpHxMfw8pOY",
        "colab_type": "code",
        "outputId": "f486cf22-4f6c-403e-ea89-456dfc5ea7bb",
        "colab": {
          "base_uri": "https://localhost:8080/",
          "height": 349
        }
      },
      "cell_type": "code",
      "source": [
        "vgg = Vgg16()\n",
        "# Grab a few images at a time for training and validation.\n",
        "# NB: They must be in subdirectories named based on their category\n",
        "batches = vgg.get_batches(path+'train', batch_size=batch_size)\n",
        "val_batches = vgg.get_batches(path+'valid', batch_size=batch_size*2)\n",
        "vgg.finetune(batches)\n",
        "vgg.fit(batches, val_batches, nb_epoch=1)"
      ],
      "execution_count": 54,
      "outputs": [
        {
          "output_type": "stream",
          "text": [
            "/content/vgg16.py:100: UserWarning: Update your `Conv2D` call to the Keras 2 API: `Conv2D(64, (3, 3), activation=\"relu\")`\n",
            "  model.add(Convolution2D(filters, 3, 3, activation='relu'))\n",
            "/content/vgg16.py:100: UserWarning: Update your `Conv2D` call to the Keras 2 API: `Conv2D(128, (3, 3), activation=\"relu\")`\n",
            "  model.add(Convolution2D(filters, 3, 3, activation='relu'))\n",
            "/content/vgg16.py:100: UserWarning: Update your `Conv2D` call to the Keras 2 API: `Conv2D(256, (3, 3), activation=\"relu\")`\n",
            "  model.add(Convolution2D(filters, 3, 3, activation='relu'))\n",
            "/content/vgg16.py:100: UserWarning: Update your `Conv2D` call to the Keras 2 API: `Conv2D(512, (3, 3), activation=\"relu\")`\n",
            "  model.add(Convolution2D(filters, 3, 3, activation='relu'))\n"
          ],
          "name": "stderr"
        },
        {
          "output_type": "stream",
          "text": [
            "Downloading data from http://files.fast.ai/models/vgg16.h5\n",
            "553484288/553482496 [==============================] - 6s 0us/step\n",
            "Downloading data from http://files.fast.ai/models/imagenet_class_index.json\n",
            "40960/35363 [==================================] - 0s 1us/step\n",
            "Found 16 images belonging to 2 classes.\n",
            "Found 8 images belonging to 2 classes.\n"
          ],
          "name": "stdout"
        },
        {
          "output_type": "stream",
          "text": [
            "/content/vgg16.py:213: UserWarning: Update your `fit_generator` call to the Keras 2 API: `fit_generator(<keras_pre..., epochs=1, validation_data=<keras_pre..., validation_steps=8, steps_per_epoch=4)`\n",
            "  validation_data=val_batches, validation_steps=val_batches.samples)\n"
          ],
          "name": "stderr"
        },
        {
          "output_type": "stream",
          "text": [
            "Epoch 1/1\n",
            "4/4 [==============================] - 6s 2s/step - loss: 0.9780 - acc: 0.6250 - val_loss: 0.8983 - val_acc: 0.5000\n"
          ],
          "name": "stdout"
        }
      ]
    },
    {
      "metadata": {
        "id": "LWH25lf3diWV",
        "colab_type": "code",
        "colab": {
          "base_uri": "https://localhost:8080/",
          "height": 35
        },
        "outputId": "45c13fb8-9692-49cb-ba0a-7d98d0935838"
      },
      "cell_type": "code",
      "source": [
        "# This folder is separated into two folders containing the two classes: cats and dogs\n",
        "!ls dogscats/sample/train"
      ],
      "execution_count": 55,
      "outputs": [
        {
          "output_type": "stream",
          "text": [
            "cats  dogs\n"
          ],
          "name": "stdout"
        }
      ]
    },
    {
      "metadata": {
        "id": "VZxMa7S18pOd",
        "colab_type": "text"
      },
      "cell_type": "markdown",
      "source": [
        "The code above will work for any image recognition task, with any number of categories! All you have to do is to put your images into one folder per category, and run the code above.\n",
        "\n",
        "Let's take a look at how this works, step by step..."
      ]
    },
    {
      "metadata": {
        "id": "NjemIdHD8pOe",
        "colab_type": "text"
      },
      "cell_type": "markdown",
      "source": [
        "## Use Vgg16 for basic image recognition\n",
        "\n",
        "Let's start off by using the *Vgg16* class to recognise the main imagenet category for each image.\n",
        "\n",
        "We won't be able to enter the Cats vs Dogs competition with an Imagenet model alone, since 'cat' and 'dog' are not categories in Imagenet - instead each individual breed is a separate category. However, we can use it to see how well it can recognise the images, which is a good first step.\n",
        "\n",
        "First, create a Vgg16 object:"
      ]
    },
    {
      "metadata": {
        "id": "vcsRyy6b8pOf",
        "colab_type": "code",
        "colab": {
          "base_uri": "https://localhost:8080/",
          "height": 156
        },
        "outputId": "4def0b28-4a62-432a-878f-d946dbf86d43"
      },
      "cell_type": "code",
      "source": [
        "vgg = Vgg16()"
      ],
      "execution_count": 56,
      "outputs": [
        {
          "output_type": "stream",
          "text": [
            "/content/vgg16.py:100: UserWarning: Update your `Conv2D` call to the Keras 2 API: `Conv2D(64, (3, 3), activation=\"relu\")`\n",
            "  model.add(Convolution2D(filters, 3, 3, activation='relu'))\n",
            "/content/vgg16.py:100: UserWarning: Update your `Conv2D` call to the Keras 2 API: `Conv2D(128, (3, 3), activation=\"relu\")`\n",
            "  model.add(Convolution2D(filters, 3, 3, activation='relu'))\n",
            "/content/vgg16.py:100: UserWarning: Update your `Conv2D` call to the Keras 2 API: `Conv2D(256, (3, 3), activation=\"relu\")`\n",
            "  model.add(Convolution2D(filters, 3, 3, activation='relu'))\n",
            "/content/vgg16.py:100: UserWarning: Update your `Conv2D` call to the Keras 2 API: `Conv2D(512, (3, 3), activation=\"relu\")`\n",
            "  model.add(Convolution2D(filters, 3, 3, activation='relu'))\n"
          ],
          "name": "stderr"
        }
      ]
    },
    {
      "metadata": {
        "id": "qPVeCH_08pOi",
        "colab_type": "text"
      },
      "cell_type": "markdown",
      "source": [
        "Vgg16 is built on top of *Keras* (which we will be learning much more about shortly!), a flexible, easy to use deep learning library that sits on top of Theano or Tensorflow. Keras reads groups of images and labels in *batches*, using a fixed directory structure, where images from each category for training must be placed in a separate folder.\n",
        "\n",
        "Let's grab batches of data from our training folder:"
      ]
    },
    {
      "metadata": {
        "scrolled": true,
        "id": "UrF5ETa58pOj",
        "colab_type": "code",
        "outputId": "c8572f7c-7519-4b40-9494-46e82e5eace0",
        "colab": {
          "base_uri": "https://localhost:8080/",
          "height": 35
        }
      },
      "cell_type": "code",
      "source": [
        "batches = vgg.get_batches(path+'train', batch_size=4)"
      ],
      "execution_count": 57,
      "outputs": [
        {
          "output_type": "stream",
          "text": [
            "Found 16 images belonging to 2 classes.\n"
          ],
          "name": "stdout"
        }
      ]
    },
    {
      "metadata": {
        "id": "jxn-Htnd8pOr",
        "colab_type": "text"
      },
      "cell_type": "markdown",
      "source": [
        "(BTW, when Keras refers to 'classes', it doesn't mean python classes - but rather it refers to the categories of the labels, such as 'pug', or 'tabby'.)\n",
        "\n",
        "*Batches* is just a regular python iterator. Each iteration returns both the images themselves, as well as the labels."
      ]
    },
    {
      "metadata": {
        "id": "miVOYmDz8pOs",
        "colab_type": "code",
        "colab": {}
      },
      "cell_type": "code",
      "source": [
        "imgs,labels = next(batches) # next is called on an iterator; next() retrieves the next item from the iterator by calling its next() method."
      ],
      "execution_count": 0,
      "outputs": []
    },
    {
      "metadata": {
        "id": "pUL0FydleQKX",
        "colab_type": "code",
        "colab": {
          "base_uri": "https://localhost:8080/",
          "height": 156
        },
        "outputId": "f60e1e58-c0a7-4947-9f52-6950ee610c3d"
      },
      "cell_type": "code",
      "source": [
        "print(imgs[0][0]) # This represents the pixels per image and what colour they should be\n",
        "print(imgs.shape) # 4 entries of 3 colours and the 224x224 representing the color in each pixel"
      ],
      "execution_count": 59,
      "outputs": [
        {
          "output_type": "stream",
          "text": [
            "[[207. 207. 207. ... 223. 222. 222.]\n",
            " [207. 207. 207. ... 223. 222. 222.]\n",
            " [207. 207. 207. ... 223. 222. 222.]\n",
            " ...\n",
            " [130. 141. 170. ... 111. 140. 117.]\n",
            " [136. 153. 166. ... 100. 114.  89.]\n",
            " [175. 191. 163. ... 103. 125. 106.]]\n",
            "(4, 3, 224, 224)\n"
          ],
          "name": "stdout"
        }
      ]
    },
    {
      "metadata": {
        "id": "MvLlC9slebBp",
        "colab_type": "code",
        "colab": {
          "base_uri": "https://localhost:8080/",
          "height": 104
        },
        "outputId": "1cedb6e0-1b87-4e80-b007-4572adb0eb13"
      },
      "cell_type": "code",
      "source": [
        "print(labels)\n",
        "print(labels.shape)"
      ],
      "execution_count": 60,
      "outputs": [
        {
          "output_type": "stream",
          "text": [
            "[[1. 0.]\n",
            " [0. 1.]\n",
            " [0. 1.]\n",
            " [0. 1.]]\n",
            "(4, 2)\n"
          ],
          "name": "stdout"
        }
      ]
    },
    {
      "metadata": {
        "id": "6ZfMIsVb8pOw",
        "colab_type": "text"
      },
      "cell_type": "markdown",
      "source": [
        "As you can see, the labels for each image are an array, containing a 1 in the first position if it's a cat, and in the second position if it's a dog. This approach to encoding categorical variables, where an array containing just a single 1 in the position corresponding to the category, is very common in deep learning. It is called *one hot encoding*. \n",
        "\n",
        "The arrays contain two elements, because we have two categories (cat, and dog). If we had three categories (e.g. cats, dogs, and kangaroos), then the arrays would each contain two 0's, and one 1."
      ]
    },
    {
      "metadata": {
        "id": "F27s-Bbr8pOx",
        "colab_type": "code",
        "outputId": "a64a3cba-02f7-4b91-8105-8748a21409fc",
        "colab": {
          "base_uri": "https://localhost:8080/",
          "height": 211
        }
      },
      "cell_type": "code",
      "source": [
        "plots(imgs, titles=labels)"
      ],
      "execution_count": 61,
      "outputs": [
        {
          "output_type": "display_data",
          "data": {
            "image/png": "[encoded data removed]",
            "text/plain": [
              "<matplotlib.figure.Figure at 0x7f34e9aaa5f8>"
            ]
          },
          "metadata": {
            "tags": []
          }
        }
      ]
    },
    {
      "metadata": {
        "id": "KAB7L5Ci8pO1",
        "colab_type": "text"
      },
      "cell_type": "markdown",
      "source": [
        "We can now pass the images to Vgg16's predict() function to get back probabilities, category indexes, and category names for each image's VGG prediction."
      ]
    },
    {
      "metadata": {
        "id": "rUJ3514y8pO1",
        "colab_type": "code",
        "outputId": "40c748e7-14f4-43a3-ac73-5093874f45b2",
        "colab": {
          "base_uri": "https://localhost:8080/",
          "height": 69
        }
      },
      "cell_type": "code",
      "source": [
        "vgg.predict(imgs, True)"
      ],
      "execution_count": 62,
      "outputs": [
        {
          "output_type": "execute_result",
          "data": {
            "text/plain": [
              "(array([0.0049, 0.0116, 0.0107, 0.0056], dtype=float32),\n",
              " array([491, 181, 345, 463]),\n",
              " ['chain_saw', 'Bedlington_terrier', 'ox', 'bucket'])"
            ]
          },
          "metadata": {
            "tags": []
          },
          "execution_count": 62
        }
      ]
    },
    {
      "metadata": {
        "id": "gV7iG1xQ8pO5",
        "colab_type": "text"
      },
      "cell_type": "markdown",
      "source": [
        "The category indexes are based on the ordering of categories used in the VGG model - e.g here are the first four:"
      ]
    },
    {
      "metadata": {
        "id": "6xpJUzDK8pO5",
        "colab_type": "code",
        "outputId": "6d5100c3-d2cd-48db-eeb1-5eaf049cac62",
        "colab": {
          "base_uri": "https://localhost:8080/",
          "height": 35
        }
      },
      "cell_type": "code",
      "source": [
        "vgg.classes[:4]"
      ],
      "execution_count": 63,
      "outputs": [
        {
          "output_type": "execute_result",
          "data": {
            "text/plain": [
              "['tench', 'goldfish', 'great_white_shark', 'tiger_shark']"
            ]
          },
          "metadata": {
            "tags": []
          },
          "execution_count": 63
        }
      ]
    },
    {
      "metadata": {
        "id": "S7C8tu1P8pO-",
        "colab_type": "text"
      },
      "cell_type": "markdown",
      "source": [
        "(Note that, other than creating the Vgg16 object, none of these steps are necessary to build a model; they are just showing how to use the class to view imagenet predictions.)"
      ]
    },
    {
      "metadata": {
        "id": "7K5ExwuC8pO-",
        "colab_type": "text"
      },
      "cell_type": "markdown",
      "source": [
        "## Use our Vgg16 class to finetune a Dogs vs Cats model\n",
        "\n",
        "To change our model so that it outputs \"cat\" vs \"dog\", instead of one of 1,000 very specific categories, we need to use a process called \"finetuning\". Finetuning looks from the outside to be identical to normal machine learning training - we provide a training set with data and labels to learn from, and a validation set to test against. The model learns a set of parameters based on the data provided.\n",
        "\n",
        "However, the difference is that we start with a model that is already trained to solve a similar problem. The idea is that many of the parameters should be very similar, or the same, between the existing model, and the model we wish to create. Therefore, we only select a subset of parameters to train, and leave the rest untouched. This happens automatically when we call *fit()* after calling *finetune()*.\n",
        "\n",
        "We create our batches just like before, and making the validation set available as well. A 'batch' (or *mini-batch* as it is commonly known) is simply a subset of the training data - we use a subset at a time when training or predicting, in order to speed up training, and to avoid running out of memory."
      ]
    },
    {
      "metadata": {
        "id": "4zJEMJCK8pO_",
        "colab_type": "code",
        "colab": {}
      },
      "cell_type": "code",
      "source": [
        "batch_size=64"
      ],
      "execution_count": 0,
      "outputs": []
    },
    {
      "metadata": {
        "id": "tZ9yVUER8pPB",
        "colab_type": "code",
        "outputId": "ce3963fe-ea9c-4f66-dac9-df0d5be1ec67",
        "colab": {
          "base_uri": "https://localhost:8080/",
          "height": 52
        }
      },
      "cell_type": "code",
      "source": [
        "path = \"dogscats/\"\n",
        "batches = vgg.get_batches(path+'train', batch_size=batch_size)\n",
        "val_batches = vgg.get_batches(path+'valid', batch_size=batch_size)"
      ],
      "execution_count": 65,
      "outputs": [
        {
          "output_type": "stream",
          "text": [
            "Found 23000 images belonging to 2 classes.\n",
            "Found 2000 images belonging to 2 classes.\n"
          ],
          "name": "stdout"
        }
      ]
    },
    {
      "metadata": {
        "id": "OkXqR0Sr8pPD",
        "colab_type": "text"
      },
      "cell_type": "markdown",
      "source": [
        "Calling *finetune()* modifies the model such that it will be trained based on the data in the batches provided - in this case, to predict either 'dog' or 'cat'."
      ]
    },
    {
      "metadata": {
        "id": "DYiw1kiW8pPF",
        "colab_type": "code",
        "colab": {}
      },
      "cell_type": "code",
      "source": [
        "vgg.finetune(batches)"
      ],
      "execution_count": 0,
      "outputs": []
    },
    {
      "metadata": {
        "id": "ao9c1_Yd8pPG",
        "colab_type": "text"
      },
      "cell_type": "markdown",
      "source": [
        "Finally, we *fit()* the parameters of the model using the training data, reporting the accuracy on the validation set after every epoch. (An *epoch* is one full pass through the training data.)"
      ]
    },
    {
      "metadata": {
        "id": "M35W5EfQ8pPH",
        "colab_type": "code",
        "outputId": "9d55e90a-02cb-4b6b-a635-aa0771b200c3",
        "colab": {
          "base_uri": "https://localhost:8080/",
          "height": 107
        }
      },
      "cell_type": "code",
      "source": [
        "vgg.fit(batches, val_batches, nb_epoch=1)"
      ],
      "execution_count": 0,
      "outputs": [
        {
          "output_type": "stream",
          "text": [
            "/content/vgg16.py:213: UserWarning: Update your `fit_generator` call to the Keras 2 API: `fit_generator(<keras_pre..., epochs=1, validation_data=<keras_pre..., validation_steps=2000, steps_per_epoch=359)`\n",
            "  validation_data=val_batches, validation_steps=val_batches.samples)\n"
          ],
          "name": "stderr"
        },
        {
          "output_type": "stream",
          "text": [
            "Epoch 1/1\n",
            "358/359 [============================>.] - ETA: 0s - loss: 0.6736 - acc: 0.6394"
          ],
          "name": "stdout"
        }
      ]
    },
    {
      "metadata": {
        "id": "oxaGVVt-8pPK",
        "colab_type": "text"
      },
      "cell_type": "markdown",
      "source": [
        "That shows all of the steps involved in using the Vgg16 class to create an image recognition model using whatever labels you are interested in. For instance, this process could classify paintings by style, or leaves by type of disease, or satellite photos by type of crop, and so forth.\n",
        "\n",
        "Next up, we'll dig one level deeper to see what's going on in the Vgg16 class."
      ]
    },
    {
      "metadata": {
        "id": "QBwJULA98pPK",
        "colab_type": "text"
      },
      "cell_type": "markdown",
      "source": [
        "# Create a VGG model from scratch in Keras\n",
        "\n",
        "For the rest of this tutorial, we will not be using the Vgg16 class at all. Instead, we will recreate from scratch the functionality we just used. This is not necessary if all you want to do is use the existing model - but if you want to create your own models, you'll need to understand these details. It will also help you in the future when you debug any problems with your models, since you'll understand what's going on behind the scenes."
      ]
    },
    {
      "metadata": {
        "id": "qb0njfg-8pPM",
        "colab_type": "text"
      },
      "cell_type": "markdown",
      "source": [
        "## Model setup\n",
        "\n",
        "We need to import all the modules we'll be using from numpy, scipy, and keras:"
      ]
    },
    {
      "metadata": {
        "id": "SevOHced8pPM",
        "colab_type": "code",
        "colab": {}
      },
      "cell_type": "code",
      "source": [
        "from numpy.random import random, permutation\n",
        "from scipy import misc, ndimage\n",
        "from scipy.ndimage.interpolation import zoom\n",
        "\n",
        "import keras\n",
        "from keras import backend as K\n",
        "from keras.utils.data_utils import get_file\n",
        "from keras.models import Sequential, Model\n",
        "from keras.layers.core import Flatten, Dense, Dropout, Lambda\n",
        "from keras.layers import Input\n",
        "from keras.layers.convolutional import Convolution2D, MaxPooling2D, ZeroPadding2D\n",
        "from keras.optimizers import SGD, RMSprop\n",
        "from keras.preprocessing import image"
      ],
      "execution_count": 0,
      "outputs": []
    },
    {
      "metadata": {
        "id": "nfZUl5C38pPO",
        "colab_type": "text"
      },
      "cell_type": "markdown",
      "source": [
        "Let's import the mappings from VGG ids to imagenet category ids and descriptions, for display purposes later."
      ]
    },
    {
      "metadata": {
        "id": "XYzwDcMM8pPO",
        "colab_type": "code",
        "colab": {}
      },
      "cell_type": "code",
      "source": [
        "FILES_PATH = 'http://files.fast.ai/models/'; CLASS_FILE='imagenet_class_index.json'\n",
        "# Keras' get_file() is a handy function that downloads files, and caches them for re-use later\n",
        "fpath = get_file(CLASS_FILE, FILES_PATH+CLASS_FILE, cache_subdir='models')\n",
        "with open(fpath) as f: class_dict = json.load(f)\n",
        "# Convert dictionary with string indexes into an array\n",
        "classes = [class_dict[str(i)][1] for i in range(len(class_dict))]"
      ],
      "execution_count": 0,
      "outputs": []
    },
    {
      "metadata": {
        "id": "kdzIL0uD8pPR",
        "colab_type": "text"
      },
      "cell_type": "markdown",
      "source": [
        "Here's a few examples of the categories we just imported:"
      ]
    },
    {
      "metadata": {
        "id": "BW6-Nhby8pPS",
        "colab_type": "code",
        "colab": {}
      },
      "cell_type": "code",
      "source": [
        "classes[:5]"
      ],
      "execution_count": 0,
      "outputs": []
    },
    {
      "metadata": {
        "id": "eRCS1OYq8pPW",
        "colab_type": "text"
      },
      "cell_type": "markdown",
      "source": [
        "## Model creation\n",
        "\n",
        "Creating the model involves creating the model architecture, and then loading the model weights into that architecture. We will start by defining the basic pieces of the VGG architecture.\n",
        "\n",
        "VGG has just one type of convolutional block, and one type of fully connected ('dense') block. Here's the convolutional block definition:"
      ]
    },
    {
      "metadata": {
        "id": "oRjVgARl8pPX",
        "colab_type": "code",
        "colab": {}
      },
      "cell_type": "code",
      "source": [
        "def ConvBlock(layers, model, filters):\n",
        "    for i in range(layers): \n",
        "        model.add(ZeroPadding2D((1,1)))\n",
        "        model.add(Convolution2D(filters, 3, 3, activation='relu'))\n",
        "    model.add(MaxPooling2D((2,2), strides=(2,2)))"
      ],
      "execution_count": 0,
      "outputs": []
    },
    {
      "metadata": {
        "id": "qCagXxpf8pPa",
        "colab_type": "text"
      },
      "cell_type": "markdown",
      "source": [
        "...and here's the fully-connected definition."
      ]
    },
    {
      "metadata": {
        "id": "d07lrpMA8pPa",
        "colab_type": "code",
        "colab": {}
      },
      "cell_type": "code",
      "source": [
        "def FCBlock(model):\n",
        "    model.add(Dense(4096, activation='relu'))\n",
        "    model.add(Dropout(0.5))"
      ],
      "execution_count": 0,
      "outputs": []
    },
    {
      "metadata": {
        "id": "c-TWQbbE8pPg",
        "colab_type": "text"
      },
      "cell_type": "markdown",
      "source": [
        "When the VGG model was trained in 2014, the creators subtracted the average of each of the three (R,G,B) channels first, so that the data for each channel had a mean of zero. Furthermore, their software that expected the channels to be in B,G,R order, whereas Python by default uses R,G,B. We need to preprocess our data to make these two changes, so that it is compatible with the VGG model:"
      ]
    },
    {
      "metadata": {
        "id": "esOyRStO8pPh",
        "colab_type": "code",
        "colab": {}
      },
      "cell_type": "code",
      "source": [
        "# Mean of each channel as provided by VGG researchers\n",
        "vgg_mean = np.array([123.68, 116.779, 103.939]).reshape((3,1,1))\n",
        "\n",
        "def vgg_preprocess(x):\n",
        "    x = x - vgg_mean     # subtract mean\n",
        "    return x[:, ::-1]    # reverse axis bgr->rgb"
      ],
      "execution_count": 0,
      "outputs": []
    },
    {
      "metadata": {
        "id": "2Va2Jq-x8pPj",
        "colab_type": "text"
      },
      "cell_type": "markdown",
      "source": [
        "Now we're ready to define the VGG model architecture - look at how simple it is, now that we have the basic blocks defined!"
      ]
    },
    {
      "metadata": {
        "id": "RE3QudFE8pPj",
        "colab_type": "code",
        "colab": {}
      },
      "cell_type": "code",
      "source": [
        "def VGG_16():\n",
        "    model = Sequential()\n",
        "    model.add(Lambda(vgg_preprocess, input_shape=(3,224,224)))\n",
        "\n",
        "    ConvBlock(2, model, 64)\n",
        "    ConvBlock(2, model, 128)\n",
        "    ConvBlock(3, model, 256)\n",
        "    ConvBlock(3, model, 512)\n",
        "    ConvBlock(3, model, 512)\n",
        "\n",
        "    model.add(Flatten())\n",
        "    FCBlock(model)\n",
        "    FCBlock(model)\n",
        "    model.add(Dense(1000, activation='softmax'))\n",
        "    return model"
      ],
      "execution_count": 0,
      "outputs": []
    },
    {
      "metadata": {
        "id": "0o1RoObj8pPl",
        "colab_type": "text"
      },
      "cell_type": "markdown",
      "source": [
        "We'll learn about what these different blocks do later in the course. For now, it's enough to know that:\n",
        "\n",
        "- Convolution layers are for finding patterns in images\n",
        "- Dense (fully connected) layers are for combining patterns across an image\n",
        "\n",
        "Now that we've defined the architecture, we can create the model like any python object:"
      ]
    },
    {
      "metadata": {
        "id": "IKOXeyox8pPm",
        "colab_type": "code",
        "colab": {}
      },
      "cell_type": "code",
      "source": [
        "model = VGG_16()"
      ],
      "execution_count": 0,
      "outputs": []
    },
    {
      "metadata": {
        "id": "pPDAtnxy8pPo",
        "colab_type": "text"
      },
      "cell_type": "markdown",
      "source": [
        "As well as the architecture, we need the weights that the VGG creators trained. The weights are the part of the model that is learnt from the data, whereas the architecture is pre-defined based on the nature of the problem. \n",
        "\n",
        "Downloading pre-trained weights is much preferred to training the model ourselves, since otherwise we would have to download the entire Imagenet archive, and train the model for many days! It's very helpful when researchers release their weights, as they did here."
      ]
    },
    {
      "metadata": {
        "id": "VuQC62Zs8pPp",
        "colab_type": "code",
        "colab": {}
      },
      "cell_type": "code",
      "source": [
        "fpath = get_file('vgg16.h5', FILES_PATH+'vgg16.h5', cache_subdir='models')\n",
        "model.load_weights(fpath)"
      ],
      "execution_count": 0,
      "outputs": []
    },
    {
      "metadata": {
        "id": "PVHc-YuU8pPr",
        "colab_type": "text"
      },
      "cell_type": "markdown",
      "source": [
        "## Getting imagenet predictions\n",
        "\n",
        "The setup of the imagenet model is now complete, so all we have to do is grab a batch of images and call *predict()* on them."
      ]
    },
    {
      "metadata": {
        "id": "uB36HsjX8pPr",
        "colab_type": "code",
        "colab": {}
      },
      "cell_type": "code",
      "source": [
        "batch_size = 4"
      ],
      "execution_count": 0,
      "outputs": []
    },
    {
      "metadata": {
        "id": "veBHj98k8pPt",
        "colab_type": "text"
      },
      "cell_type": "markdown",
      "source": [
        "Keras provides functionality to create batches of data from directories containing images; all we have to do is to define the size to resize the images to, what type of labels to create, whether to randomly shuffle the images, and how many images to include in each batch. We use this little wrapper to define some helpful defaults appropriate for imagenet data:"
      ]
    },
    {
      "metadata": {
        "id": "c8iE3ZME8pPu",
        "colab_type": "code",
        "colab": {}
      },
      "cell_type": "code",
      "source": [
        "def get_batches(dirname, gen=image.ImageDataGenerator(), shuffle=True, \n",
        "                batch_size=batch_size, class_mode='categorical'):\n",
        "    return gen.flow_from_directory(path+dirname, target_size=(224,224), \n",
        "                class_mode=class_mode, shuffle=shuffle, batch_size=batch_size)"
      ],
      "execution_count": 0,
      "outputs": []
    },
    {
      "metadata": {
        "id": "fwxgz8_g8pPw",
        "colab_type": "text"
      },
      "cell_type": "markdown",
      "source": [
        "From here we can use exactly the same steps as before to look at predictions from the model."
      ]
    },
    {
      "metadata": {
        "id": "WmasZmGm8pPz",
        "colab_type": "code",
        "colab": {}
      },
      "cell_type": "code",
      "source": [
        "batches = get_batches('train', batch_size=batch_size)\n",
        "val_batches = get_batches('valid', batch_size=batch_size)\n",
        "imgs,labels = next(batches)\n",
        "\n",
        "# This shows the 'ground truth'\n",
        "plots(imgs, titles=labels)"
      ],
      "execution_count": 0,
      "outputs": []
    },
    {
      "metadata": {
        "id": "ZJwam8Bi8pP2",
        "colab_type": "text"
      },
      "cell_type": "markdown",
      "source": [
        "The VGG model returns 1,000 probabilities for each image, representing the probability that the model assigns to each possible imagenet category for each image. By finding the index with the largest probability (with *np.argmax()*) we can find the predicted label."
      ]
    },
    {
      "metadata": {
        "id": "Q_774JvQ8pP3",
        "colab_type": "code",
        "colab": {}
      },
      "cell_type": "code",
      "source": [
        "def pred_batch(imgs):\n",
        "    preds = model.predict(imgs)\n",
        "    idxs = np.argmax(preds, axis=1)\n",
        "\n",
        "    print('Shape: {}'.format(preds.shape))\n",
        "    print('First 5 classes: {}'.format(classes[:5]))\n",
        "    print('First 5 probabilities: {}\\n'.format(preds[0, :5]))\n",
        "    print('Predictions prob/class: ')\n",
        "    \n",
        "    for i in range(len(idxs)):\n",
        "        idx = idxs[i]\n",
        "        print ('  {:.4f}/{}'.format(preds[i, idx], classes[idx]))"
      ],
      "execution_count": 0,
      "outputs": []
    },
    {
      "metadata": {
        "id": "pZGwy2hP8pP5",
        "colab_type": "code",
        "colab": {}
      },
      "cell_type": "code",
      "source": [
        "pred_batch(imgs)"
      ],
      "execution_count": 0,
      "outputs": []
    },
    {
      "metadata": {
        "id": "3MolT9I88pP7",
        "colab_type": "code",
        "colab": {}
      },
      "cell_type": "code",
      "source": [
        ""
      ],
      "execution_count": 0,
      "outputs": []
    }
  ]
}