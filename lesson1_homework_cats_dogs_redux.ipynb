{
  "nbformat": 4,
  "nbformat_minor": 0,
  "metadata": {
    "colab": {
      "name": "lesson1-homework-cats-dogs-redux.ipynb",
      "version": "0.3.2",
      "provenance": [],
      "collapsed_sections": [],
      "include_colab_link": true
    },
    "kernelspec": {
      "name": "python3",
      "display_name": "Python 3"
    },
    "accelerator": "GPU"
  },
  "cells": [
    {
      "cell_type": "markdown",
      "metadata": {
        "id": "view-in-github",
        "colab_type": "text"
      },
      "source": [
        "<a href=\"https://colab.research.google.com/github/mathemakitten/fastai-colab/blob/master/lesson1_homework_cats_dogs_redux.ipynb\" target=\"_parent\"><img src=\"https://colab.research.google.com/assets/colab-badge.svg\" alt=\"Open In Colab\"/></a>"
      ]
    },
    {
      "metadata": {
        "id": "tTLE9i4CQ7g8",
        "colab_type": "text"
      },
      "cell_type": "markdown",
      "source": [
        "1. Install kaggle CLI onto the server instance\n",
        "\n",
        "2. Use the kaggle CLI to download the current data for the Dogs vs. Cats Redux competition\n",
        "https://www.kaggle.com/c/dogs-vs-cats-redux-kernels-edition \n",
        "\n",
        "3. Configure the new data to the file structure in the same way that was used in the sample lesson 1 notebook\n",
        "\n",
        "4. Make a copy of the lesson 1 notebook and use the new copy to draw in the new Dogs Vs. Cats data (if you copy the notebook outside of the course folder, don't forget the utils.py, vgg26.py files etc)\n",
        "\n",
        "5. Run the relevant code cells on the sample set of new Dogs v. Cats data to make a prediction on the new image data set.\n",
        "\n",
        "6. Once the sample set works, modify the jupyter notebook to use the new test data images\n",
        "\n",
        "7. Write a script that takes the predict() data of the new Dogs vs. Cats data and writes the data to a new csv file in the format of the sample_submission.csv file that was downloaded with the Dogs vs. Cats\n",
        "\n",
        "8. Submit that new submission.csv file to the kaggle via the CLI tool"
      ]
    },
    {
      "metadata": {
        "id": "ZDKmHCe815SH",
        "colab_type": "code",
        "outputId": "6b09a33a-5189-486d-eaff-12eb75884475",
        "colab": {
          "base_uri": "https://localhost:8080/",
          "height": 624
        }
      },
      "cell_type": "code",
      "source": [
        "!rm utils.py*\n",
        "!rm vgg16.py*\n",
        "!rm vgg16bn.py*\n",
        "\n",
        "!wget https://raw.githubusercontent.com/mathemakitten/fastai-colab/master/utils.py\n",
        "!wget https://raw.githubusercontent.com/mathemakitten/fastai-colab/master/vgg16.py\n",
        "!wget https://raw.githubusercontent.com/mathemakitten/fastai-colab/master/vgg16bn.py\n",
        "  \n",
        "! pip install bcolz\n",
        "\n",
        "from utils import *\n",
        "from vgg16 import Vgg16\n",
        "\n",
        "from shutil import copyfile\n",
        "import zipfile\n",
        "import os\n",
        "\n",
        "%matplotlib inline"
      ],
      "execution_count": 3,
      "outputs": [
        {
          "output_type": "stream",
          "text": [
            "--2019-01-08 04:02:52--  https://raw.githubusercontent.com/mathemakitten/fastai-colab/master/utils.py\n",
            "Resolving raw.githubusercontent.com (raw.githubusercontent.com)... 151.101.0.133, 151.101.64.133, 151.101.128.133, ...\n",
            "Connecting to raw.githubusercontent.com (raw.githubusercontent.com)|151.101.0.133|:443... connected.\n",
            "HTTP request sent, awaiting response... 200 OK\n",
            "Length: 7953 (7.8K) [text/plain]\n",
            "Saving to: ‘utils.py’\n",
            "\n",
            "\rutils.py              0%[                    ]       0  --.-KB/s               \rutils.py            100%[===================>]   7.77K  --.-KB/s    in 0s      \n",
            "\n",
            "2019-01-08 04:02:52 (86.2 MB/s) - ‘utils.py’ saved [7953/7953]\n",
            "\n",
            "--2019-01-08 04:02:53--  https://raw.githubusercontent.com/mathemakitten/fastai-colab/master/vgg16.py\n",
            "Resolving raw.githubusercontent.com (raw.githubusercontent.com)... 151.101.0.133, 151.101.64.133, 151.101.128.133, ...\n",
            "Connecting to raw.githubusercontent.com (raw.githubusercontent.com)|151.101.0.133|:443... connected.\n",
            "HTTP request sent, awaiting response... 200 OK\n",
            "Length: 8755 (8.5K) [text/plain]\n",
            "Saving to: ‘vgg16.py’\n",
            "\n",
            "vgg16.py            100%[===================>]   8.55K  --.-KB/s    in 0s      \n",
            "\n",
            "2019-01-08 04:02:53 (86.7 MB/s) - ‘vgg16.py’ saved [8755/8755]\n",
            "\n",
            "--2019-01-08 04:02:54--  https://raw.githubusercontent.com/mathemakitten/fastai-colab/master/vgg16bn.py\n",
            "Resolving raw.githubusercontent.com (raw.githubusercontent.com)... 151.101.0.133, 151.101.64.133, 151.101.128.133, ...\n",
            "Connecting to raw.githubusercontent.com (raw.githubusercontent.com)|151.101.0.133|:443... connected.\n",
            "HTTP request sent, awaiting response... 200 OK\n",
            "Length: 4681 (4.6K) [text/plain]\n",
            "Saving to: ‘vgg16bn.py’\n",
            "\n",
            "vgg16bn.py          100%[===================>]   4.57K  --.-KB/s    in 0s      \n",
            "\n",
            "2019-01-08 04:02:54 (56.9 MB/s) - ‘vgg16bn.py’ saved [4681/4681]\n",
            "\n",
            "Requirement already satisfied: bcolz in /usr/local/lib/python3.6/dist-packages (1.2.1)\n",
            "Requirement already satisfied: numpy>=1.7 in /usr/local/lib/python3.6/dist-packages (from bcolz) (1.14.6)\n"
          ],
          "name": "stdout"
        }
      ]
    },
    {
      "metadata": {
        "id": "VOSHqyeryemb",
        "colab_type": "code",
        "outputId": "b18e48eb-b257-44c5-d63f-08788bff858d",
        "colab": {
          "base_uri": "https://localhost:8080/",
          "height": 35
        }
      },
      "cell_type": "code",
      "source": [
        "from google.colab import drive\n",
        "drive.mount('/content/drive')"
      ],
      "execution_count": 4,
      "outputs": [
        {
          "output_type": "stream",
          "text": [
            "Drive already mounted at /content/drive; to attempt to forcibly remount, call drive.mount(\"/content/drive\", force_remount=True).\n"
          ],
          "name": "stdout"
        }
      ]
    },
    {
      "metadata": {
        "id": "VZnl9It_fltA",
        "colab_type": "code",
        "outputId": "4928a38f-71b7-47d5-ffa3-cdc2218f53b7",
        "colab": {
          "base_uri": "https://localhost:8080/",
          "height": 69
        }
      },
      "cell_type": "code",
      "source": [
        "! cp /content/drive/'My Drive'/'Colab Notebooks'/fastai/kaggle.json /root/.kaggle/\n",
        "! kaggle competitions download -c dogs-vs-cats-redux-kernels-edition"
      ],
      "execution_count": 5,
      "outputs": [
        {
          "output_type": "stream",
          "text": [
            "test.zip: Skipping, found more recently modified local copy (use --force to force download)\n",
            "train.zip: Skipping, found more recently modified local copy (use --force to force download)\n",
            "sample_submission.csv: Skipping, found more recently modified local copy (use --force to force download)\n"
          ],
          "name": "stdout"
        }
      ]
    },
    {
      "metadata": {
        "id": "5IsfEbAAt5l4",
        "colab_type": "code",
        "outputId": "03293d26-e3b2-4dd8-865e-00b65098787e",
        "colab": {
          "base_uri": "https://localhost:8080/",
          "height": 69
        }
      },
      "cell_type": "code",
      "source": [
        "! ls \n",
        "! mkdir data"
      ],
      "execution_count": 6,
      "outputs": [
        {
          "output_type": "stream",
          "text": [
            "data   __pycache__  sample_submission.csv  train.zip  vgg16bn.py\n",
            "drive  sample_data  test.zip\t\t   utils.py   vgg16.py\n",
            "mkdir: cannot create directory ‘data’: File exists\n"
          ],
          "name": "stdout"
        }
      ]
    },
    {
      "metadata": {
        "id": "tlaMDXwgmHbk",
        "colab_type": "code",
        "outputId": "f77bf604-1a88-416e-9bad-7035e1785f54",
        "colab": {
          "base_uri": "https://localhost:8080/",
          "height": 35
        }
      },
      "cell_type": "code",
      "source": [
        "MAIN_DIR = os.getcwd()\n",
        "DATA_DIR = MAIN_DIR + '/data'\n",
        "\n",
        "% cd $DATA_DIR"
      ],
      "execution_count": 7,
      "outputs": [
        {
          "output_type": "stream",
          "text": [
            "/content/data\n"
          ],
          "name": "stdout"
        }
      ]
    },
    {
      "metadata": {
        "id": "S0iQaOes1zlD",
        "colab_type": "code",
        "outputId": "733bbb08-add2-45d3-a5ab-b52d9fdfe9a9",
        "colab": {
          "base_uri": "https://localhost:8080/",
          "height": 35
        }
      },
      "cell_type": "code",
      "source": [
        "if (os.path.exists('test') is False) or (os.path.exists('train') is False):\n",
        "  for file in (\"../test.zip\", \"../train.zip\"):\n",
        "    zip_ref = zipfile.ZipFile(file, 'r')\n",
        "    zip_ref.extractall('')\n",
        "    zip_ref.close()\n",
        "  print(\"Files unzipped\")\n",
        "else: \n",
        "  print(\"Files already unzipped\")"
      ],
      "execution_count": 8,
      "outputs": [
        {
          "output_type": "stream",
          "text": [
            "Files already unzipped\n"
          ],
          "name": "stdout"
        }
      ]
    },
    {
      "metadata": {
        "id": "5yQPsdpw3t_t",
        "colab_type": "code",
        "outputId": "56cd3d13-e7c3-42df-aadb-20489de8192e",
        "colab": {
          "base_uri": "https://localhost:8080/",
          "height": 52
        }
      },
      "cell_type": "code",
      "source": [
        "# Check the files in the directories unzipped properly\n",
        "!ls train | head -5"
      ],
      "execution_count": 9,
      "outputs": [
        {
          "output_type": "stream",
          "text": [
            "cats\n",
            "dogs\n"
          ],
          "name": "stdout"
        }
      ]
    },
    {
      "metadata": {
        "id": "6W1zBOGC-fl9",
        "colab_type": "code",
        "outputId": "f99f4a67-58ad-4014-d753-322e2239790c",
        "colab": {
          "base_uri": "https://localhost:8080/",
          "height": 35
        }
      },
      "cell_type": "code",
      "source": [
        "# Determine how many training samples we have - should be 25,000\n",
        "# A 20% validation set of 25,000 would be 5,000\n",
        "!ls train | wc -l"
      ],
      "execution_count": 10,
      "outputs": [
        {
          "output_type": "stream",
          "text": [
            "2\n"
          ],
          "name": "stdout"
        }
      ]
    },
    {
      "metadata": {
        "id": "aCP7a5V0FBmn",
        "colab_type": "code",
        "outputId": "585e568c-1c97-4f90-8bd3-6cdd18b3d7d1",
        "colab": {
          "base_uri": "https://localhost:8080/",
          "height": 52
        }
      },
      "cell_type": "code",
      "source": [
        "# Setup directory structure for data\n",
        "\n",
        "!mkdir valid\n",
        "!mkdir results\n",
        "!mkdir -p sample/train\n",
        "!mkdir -p sample/valid\n",
        "!mkdir -p sample/test"
      ],
      "execution_count": 14,
      "outputs": [
        {
          "output_type": "stream",
          "text": [
            "mkdir: cannot create directory ‘valid’: File exists\n",
            "mkdir: cannot create directory ‘results’: File exists\n"
          ],
          "name": "stdout"
        }
      ]
    },
    {
      "metadata": {
        "id": "Sc9DVTnC4YUX",
        "colab_type": "code",
        "outputId": "18761ee5-afd6-4de8-bfb9-fba9c8c4ebe8",
        "colab": {
          "base_uri": "https://localhost:8080/",
          "height": 253
        }
      },
      "cell_type": "code",
      "source": [
        "# Create a 20% validation set - 5000 images\n",
        "\n",
        "# Get all the training images\n",
        "% cd $DATA_DIR\n",
        "% cd train\n",
        "\n",
        "imgs = glob('*.jpg')\n",
        "shuffled = np.random.permutation(imgs)\n",
        "\n",
        "for i in range(5000): \n",
        "  os.rename(shuffled[i], DATA_DIR + '/valid/' + shuffled[i]) # recall that DATA_DIR = /content/data"
      ],
      "execution_count": 23,
      "outputs": [
        {
          "output_type": "stream",
          "text": [
            "/content/data\n",
            "/content/data/train\n",
            "\u001b[0m\u001b[01;34mcats\u001b[0m/  \u001b[01;34mdogs\u001b[0m/\n"
          ],
          "name": "stdout"
        },
        {
          "output_type": "error",
          "ename": "IndexError",
          "evalue": "ignored",
          "traceback": [
            "\u001b[0;31m---------------------------------------------------------------------------\u001b[0m",
            "\u001b[0;31mIndexError\u001b[0m                                Traceback (most recent call last)",
            "\u001b[0;32m<ipython-input-23-25533ee252b3>\u001b[0m in \u001b[0;36m<module>\u001b[0;34m()\u001b[0m\n\u001b[1;32m      6\u001b[0m \u001b[0;34m\u001b[0m\u001b[0m\n\u001b[1;32m      7\u001b[0m \u001b[0;32mfor\u001b[0m \u001b[0mi\u001b[0m \u001b[0;32min\u001b[0m \u001b[0mrange\u001b[0m\u001b[0;34m(\u001b[0m\u001b[0;36m5000\u001b[0m\u001b[0;34m)\u001b[0m\u001b[0;34m:\u001b[0m\u001b[0;34m\u001b[0m\u001b[0;34m\u001b[0m\u001b[0m\n\u001b[0;32m----> 8\u001b[0;31m   \u001b[0mos\u001b[0m\u001b[0;34m.\u001b[0m\u001b[0mrename\u001b[0m\u001b[0;34m(\u001b[0m\u001b[0mshuffled\u001b[0m\u001b[0;34m[\u001b[0m\u001b[0mi\u001b[0m\u001b[0;34m]\u001b[0m\u001b[0;34m,\u001b[0m \u001b[0mDATA_DIR\u001b[0m \u001b[0;34m+\u001b[0m \u001b[0;34m'/valid/'\u001b[0m \u001b[0;34m+\u001b[0m \u001b[0mshuffled\u001b[0m\u001b[0;34m[\u001b[0m\u001b[0mi\u001b[0m\u001b[0;34m]\u001b[0m\u001b[0;34m)\u001b[0m \u001b[0;31m# recall that DATA_DIR = /content/data\u001b[0m\u001b[0;34m\u001b[0m\u001b[0;34m\u001b[0m\u001b[0m\n\u001b[0m",
            "\u001b[0;31mIndexError\u001b[0m: index 0 is out of bounds for axis 0 with size 0"
          ]
        }
      ]
    },
    {
      "metadata": {
        "id": "4AH88zbmCVgZ",
        "colab_type": "code",
        "colab": {}
      },
      "cell_type": "code",
      "source": [
        "# Create a sample training dataset by copying over a small 1% sample (200 images)\n",
        "\n",
        "sample_train_imgs = glob('*.jpg')\n",
        "shuffled_train_sample = np.random.permutation(sample_train_imgs)\n",
        "\n",
        "for i in range(200): \n",
        "  copyfile(shuffled_train_sample[i], DATA_DIR + '/sample/train/' + shuffled_train_sample[i])"
      ],
      "execution_count": 0,
      "outputs": []
    },
    {
      "metadata": {
        "id": "SfVkwzGkx8qx",
        "colab_type": "code",
        "colab": {}
      },
      "cell_type": "code",
      "source": [
        "# As above, create a sample validation dataset for 50 validation images \n",
        "\n",
        "% cd $DATA_DIR\n",
        "% cd valid\n",
        "\n",
        "sample_valid_imgs = glob('*.jpg')\n",
        "shuffled_valid_sample = np.random.permutation(sample_valid_imgs)\n",
        "\n",
        "for i in range(50): \n",
        "  copyfile(shuffled_valid_sample[i], DATA_DIR + '/sample/valid/' + shuffled_valid_sample[i])"
      ],
      "execution_count": 0,
      "outputs": []
    },
    {
      "metadata": {
        "id": "2dSmuffMyMNf",
        "colab_type": "code",
        "colab": {}
      },
      "cell_type": "code",
      "source": [
        "# Create folders for cats vs. dogs in both the full & sample datasets\n",
        "\n",
        "% cd $DATA_DIR/sample/train\n",
        "% mkdir cats\n",
        "% mkdir dogs\n",
        "% mv cat.*.jpg cats/\n",
        "% mv dog.*.jpg dogs/\n",
        "\n",
        "% cd $DATA_DIR/sample/valid\n",
        "% mkdir cats\n",
        "% mkdir dogs\n",
        "% mv cat.*.jpg cats/\n",
        "% mv dog.*.jpg dogs/\n",
        "\n",
        "% cd $DATA_DIR/valid\n",
        "% mkdir cats\n",
        "% mkdir dogs\n",
        "% mv cat.*.jpg cats/\n",
        "% mv dog.*.jpg dogs/\n",
        "\n",
        "% cd $DATA_DIR/train\n",
        "% mkdir cats\n",
        "% mkdir dogs\n",
        "% mv cat.*.jpg cats/\n",
        "% mv dog.*.jpg dogs/"
      ],
      "execution_count": 0,
      "outputs": []
    },
    {
      "metadata": {
        "id": "YAzJwIbieKCQ",
        "colab_type": "code",
        "colab": {}
      },
      "cell_type": "code",
      "source": [
        "# Test set: create an 'unknown' label for given test set because we're not sure if cat or dog\n",
        "\n",
        "% cd $DATA_DIR/test\n",
        "% mkdir unknown\n",
        "% mv *.jpg unknown/"
      ],
      "execution_count": 0,
      "outputs": []
    },
    {
      "metadata": {
        "id": "P9-1VXZZjUPQ",
        "colab_type": "code",
        "colab": {
          "base_uri": "https://localhost:8080/",
          "height": 35
        },
        "outputId": "ae61f5e4-68b5-4d39-e7c6-730e3a0027c9"
      },
      "cell_type": "code",
      "source": [
        "# Start model training\n",
        "# Set up where to find the datasets\n",
        "\n",
        "% cd $DATA_DIR\n",
        "\n",
        "# Run pipeline on sample to ensure it's working\n",
        "path = DATA_DIR + '/' # '/sample/'; otherwise just + '/' \n",
        "\n",
        "test_path = DATA_DIR + '/test/'\n",
        "results_path = DATA_DIR + '/results/'\n",
        "\n",
        "train_path = path + '/train/'\n",
        "valid_path = path + '/valid/'"
      ],
      "execution_count": 24,
      "outputs": [
        {
          "output_type": "stream",
          "text": [
            "/content/data\n"
          ],
          "name": "stdout"
        }
      ]
    },
    {
      "metadata": {
        "id": "WbG1xPlLkIOr",
        "colab_type": "code",
        "colab": {
          "base_uri": "https://localhost:8080/",
          "height": 156
        },
        "outputId": "05efccb9-969c-4f53-d925-d3eceb590322"
      },
      "cell_type": "code",
      "source": [
        "# Instantiate vgg16 class\n",
        "vgg = Vgg16()"
      ],
      "execution_count": 25,
      "outputs": [
        {
          "output_type": "stream",
          "text": [
            "/content/vgg16.py:100: UserWarning: Update your `Conv2D` call to the Keras 2 API: `Conv2D(64, (3, 3), activation=\"relu\")`\n",
            "  model.add(Convolution2D(filters, 3, 3, activation='relu'))\n",
            "/content/vgg16.py:100: UserWarning: Update your `Conv2D` call to the Keras 2 API: `Conv2D(128, (3, 3), activation=\"relu\")`\n",
            "  model.add(Convolution2D(filters, 3, 3, activation='relu'))\n",
            "/content/vgg16.py:100: UserWarning: Update your `Conv2D` call to the Keras 2 API: `Conv2D(256, (3, 3), activation=\"relu\")`\n",
            "  model.add(Convolution2D(filters, 3, 3, activation='relu'))\n",
            "/content/vgg16.py:100: UserWarning: Update your `Conv2D` call to the Keras 2 API: `Conv2D(512, (3, 3), activation=\"relu\")`\n",
            "  model.add(Convolution2D(filters, 3, 3, activation='relu'))\n"
          ],
          "name": "stderr"
        }
      ]
    },
    {
      "metadata": {
        "id": "Q7Qc_eVxkS0x",
        "colab_type": "code",
        "colab": {}
      },
      "cell_type": "code",
      "source": [
        "# Set hyperparameters\n",
        "batch_size=64\n",
        "num_epochs=3\n",
        "#vgg.model.optimizer.lr = 0.01 "
      ],
      "execution_count": 0,
      "outputs": []
    },
    {
      "metadata": {
        "id": "tlNyVFtzmNLr",
        "colab_type": "code",
        "colab": {
          "base_uri": "https://localhost:8080/",
          "height": 52
        },
        "outputId": "f672224c-5b2b-466d-f2af-8f1dd92ce624"
      },
      "cell_type": "code",
      "source": [
        "# Run model finetuning to switch down to only 2 classes (cats & dogs)\n",
        "\n",
        "batches = vgg.get_batches(train_path, batch_size=batch_size)\n",
        "val_batches = vgg.get_batches(valid_path, batch_size=batch_size) # batch_size=batch_size*2\n",
        "vgg.finetune(batches)"
      ],
      "execution_count": 27,
      "outputs": [
        {
          "output_type": "stream",
          "text": [
            "Found 20000 images belonging to 2 classes.\n",
            "Found 5000 images belonging to 2 classes.\n"
          ],
          "name": "stdout"
        }
      ]
    },
    {
      "metadata": {
        "id": "BbaBrnsXm5U9",
        "colab_type": "code",
        "colab": {
          "base_uri": "https://localhost:8080/",
          "height": 599
        },
        "outputId": "bddc16e3-d7af-4612-e21a-72d7c4e554ef"
      },
      "cell_type": "code",
      "source": [
        "# Run model training to fit the model\n",
        "# Training: 20000 observations / 64 batch size = 312 groups\n",
        "\n",
        "for epoch in range(num_epochs):\n",
        "  print(\"Running epoch: %d\" % epoch)\n",
        "  vgg.fit(batches, val_batches, nb_epoch=num_epochs)\n",
        "  current_weights = 'ft%d.h5' % epoch # save weights for every pass in a .h5 file format\n",
        "  vgg.model.save_weights(results_path + current_weights) # note: should switch this to persistent storage on Google Drive\n",
        "print(\"Fit the model over \" + str(num_epochs) + \" epochs\")"
      ],
      "execution_count": 28,
      "outputs": [
        {
          "output_type": "stream",
          "text": [
            "Running epoch: 0\n",
            "Epoch 1/3\n",
            "312/312 [==============================] - 248s 796ms/step - loss: 0.6814 - acc: 0.6275 - val_loss: 0.6166 - val_acc: 0.6701\n",
            "Epoch 2/3\n",
            "312/312 [==============================] - 245s 785ms/step - loss: 0.6233 - acc: 0.6736 - val_loss: 0.5511 - val_acc: 0.6971\n",
            "Epoch 3/3\n",
            "312/312 [==============================] - 241s 772ms/step - loss: 0.6056 - acc: 0.6901 - val_loss: 0.4856 - val_acc: 0.7743\n",
            "Running epoch: 1\n",
            "Epoch 1/3\n",
            "312/312 [==============================] - 241s 773ms/step - loss: 0.5928 - acc: 0.6971 - val_loss: 0.4821 - val_acc: 0.7585\n",
            "Epoch 2/3\n",
            "312/312 [==============================] - 241s 771ms/step - loss: 0.6029 - acc: 0.6936 - val_loss: 0.5266 - val_acc: 0.7243\n",
            "Epoch 3/3\n",
            "312/312 [==============================] - 241s 771ms/step - loss: 0.5975 - acc: 0.7015 - val_loss: 0.5831 - val_acc: 0.6937\n",
            "Running epoch: 2\n",
            "Epoch 1/3\n",
            "312/312 [==============================] - 241s 772ms/step - loss: 0.6006 - acc: 0.6951 - val_loss: 0.4804 - val_acc: 0.7607\n",
            "Epoch 2/3\n",
            "312/312 [==============================] - 240s 771ms/step - loss: 0.5946 - acc: 0.6989 - val_loss: 0.5079 - val_acc: 0.7346\n",
            "Epoch 3/3\n",
            "312/312 [==============================] - 241s 771ms/step - loss: 0.5976 - acc: 0.6972 - val_loss: 0.4754 - val_acc: 0.7737\n"
          ],
          "name": "stdout"
        },
        {
          "output_type": "error",
          "ename": "TypeError",
          "evalue": "ignored",
          "traceback": [
            "\u001b[0;31m---------------------------------------------------------------------------\u001b[0m",
            "\u001b[0;31mTypeError\u001b[0m                                 Traceback (most recent call last)",
            "\u001b[0;32m<ipython-input-28-5c1ca1838891>\u001b[0m in \u001b[0;36m<module>\u001b[0;34m()\u001b[0m\n\u001b[1;32m      5\u001b[0m   \u001b[0mcurrent_weights\u001b[0m \u001b[0;34m=\u001b[0m \u001b[0;34m'ft%d.h5'\u001b[0m \u001b[0;34m%\u001b[0m \u001b[0mepoch\u001b[0m \u001b[0;31m# save weights for every pass in a .h5 file format\u001b[0m\u001b[0;34m\u001b[0m\u001b[0;34m\u001b[0m\u001b[0m\n\u001b[1;32m      6\u001b[0m   \u001b[0mvgg\u001b[0m\u001b[0;34m.\u001b[0m\u001b[0mmodel\u001b[0m\u001b[0;34m.\u001b[0m\u001b[0msave_weights\u001b[0m\u001b[0;34m(\u001b[0m\u001b[0mresults_path\u001b[0m \u001b[0;34m+\u001b[0m \u001b[0mcurrent_weights\u001b[0m\u001b[0;34m)\u001b[0m \u001b[0;31m# note: should switch this to persistent storage on Google Drive\u001b[0m\u001b[0;34m\u001b[0m\u001b[0;34m\u001b[0m\u001b[0m\n\u001b[0;32m----> 7\u001b[0;31m \u001b[0mprint\u001b[0m\u001b[0;34m(\u001b[0m\u001b[0;34m\"Fit the model over \"\u001b[0m \u001b[0;34m+\u001b[0m \u001b[0mnum_epochs\u001b[0m \u001b[0;34m+\u001b[0m \u001b[0;34m\" epochs\"\u001b[0m\u001b[0;34m)\u001b[0m\u001b[0;34m\u001b[0m\u001b[0;34m\u001b[0m\u001b[0m\n\u001b[0m\u001b[1;32m      8\u001b[0m \u001b[0;34m\u001b[0m\u001b[0m\n\u001b[1;32m      9\u001b[0m '''\n",
            "\u001b[0;31mTypeError\u001b[0m: must be str, not int"
          ]
        }
      ]
    },
    {
      "metadata": {
        "id": "1WcH9tjWzNrO",
        "colab_type": "code",
        "colab": {}
      },
      "cell_type": "code",
      "source": [
        "# HN to be continued from here. \n",
        "# TODO: Assess if fit_generator is working as expected in Keras 2 \n",
        "# Find out why performance is so low"
      ],
      "execution_count": 0,
      "outputs": []
    }
  ]
}