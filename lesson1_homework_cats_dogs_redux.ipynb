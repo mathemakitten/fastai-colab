{
  "nbformat": 4,
  "nbformat_minor": 0,
  "metadata": {
    "colab": {
      "name": "lesson1-homework-cats-dogs-redux.ipynb",
      "version": "0.3.2",
      "provenance": [],
      "collapsed_sections": [],
      "include_colab_link": true
    },
    "kernelspec": {
      "name": "python3",
      "display_name": "Python 3"
    },
    "accelerator": "GPU"
  },
  "cells": [
    {
      "cell_type": "markdown",
      "metadata": {
        "id": "view-in-github",
        "colab_type": "text"
      },
      "source": [
        "<a href=\"https://colab.research.google.com/github/mathemakitten/fastai-colab/blob/master/lesson1_homework_cats_dogs_redux.ipynb\" target=\"_parent\"><img src=\"https://colab.research.google.com/assets/colab-badge.svg\" alt=\"Open In Colab\"/></a>"
      ]
    },
    {
      "metadata": {
        "id": "tTLE9i4CQ7g8",
        "colab_type": "text"
      },
      "cell_type": "markdown",
      "source": [
        "1. Install kaggle CLI onto the server instance\n",
        "\n",
        "2. Use the kaggle CLI to download the current data for the Dogs vs. Cats Redux competition\n",
        "https://www.kaggle.com/c/dogs-vs-cats-redux-kernels-edition \n",
        "\n",
        "3. Configure the new data to the file structure in the same way that was used in the sample lesson 1 notebook\n",
        "\n",
        "4. Make a copy of the lesson 1 notebook and use the new copy to draw in the new Dogs Vs. Cats data (if you copy the notebook outside of the course folder, don't forget the utils.py, vgg26.py files etc)\n",
        "\n",
        "5. Run the relevant code cells on the sample set of new Dogs v. Cats data to make a prediction on the new image data set.\n",
        "\n",
        "6. Once the sample set works, modify the jupyter notebook to use the new test data images\n",
        "\n",
        "7. Write a script that takes the predict() data of the new Dogs vs. Cats data and writes the data to a new csv file in the format of the sample_submission.csv file that was downloaded with the Dogs vs. Cats\n",
        "\n",
        "8. Submit that new submission.csv file to the kaggle via the CLI tool"
      ]
    },
    {
      "metadata": {
        "id": "ZDKmHCe815SH",
        "colab_type": "code",
        "outputId": "4a93a12a-4383-4889-f61f-ba8d8073d87c",
        "colab": {
          "base_uri": "https://localhost:8080/",
          "height": 629
        }
      },
      "cell_type": "code",
      "source": [
        "!rm utils.py*\n",
        "!rm vgg16.py*\n",
        "!rm vgg16bn.py*\n",
        "\n",
        "!wget https://raw.githubusercontent.com/mathemakitten/fastai-colab/master/utils.py\n",
        "!wget https://raw.githubusercontent.com/mathemakitten/fastai-colab/master/vgg16.py\n",
        "!wget https://raw.githubusercontent.com/mathemakitten/fastai-colab/master/vgg16bn.py\n",
        "  \n",
        "! pip install bcolz\n",
        "\n",
        "from utils import *\n",
        "from vgg16 import Vgg16\n",
        "\n",
        "from shutil import copyfile\n",
        "import zipfile\n",
        "import os\n",
        "\n",
        "%matplotlib inline"
      ],
      "execution_count": 1,
      "outputs": [
        {
          "output_type": "stream",
          "text": [
            "--2019-02-24 19:35:34--  https://raw.githubusercontent.com/mathemakitten/fastai-colab/master/utils.py\n",
            "Resolving raw.githubusercontent.com (raw.githubusercontent.com)... 151.101.0.133, 151.101.64.133, 151.101.128.133, ...\n",
            "Connecting to raw.githubusercontent.com (raw.githubusercontent.com)|151.101.0.133|:443... connected.\n",
            "HTTP request sent, awaiting response... 200 OK\n",
            "Length: 7950 (7.8K) [text/plain]\n",
            "Saving to: ‘utils.py’\n",
            "\n",
            "\rutils.py              0%[                    ]       0  --.-KB/s               \rutils.py            100%[===================>]   7.76K  --.-KB/s    in 0s      \n",
            "\n",
            "2019-02-24 19:35:34 (118 MB/s) - ‘utils.py’ saved [7950/7950]\n",
            "\n",
            "--2019-02-24 19:35:35--  https://raw.githubusercontent.com/mathemakitten/fastai-colab/master/vgg16.py\n",
            "Resolving raw.githubusercontent.com (raw.githubusercontent.com)... 151.101.0.133, 151.101.64.133, 151.101.128.133, ...\n",
            "Connecting to raw.githubusercontent.com (raw.githubusercontent.com)|151.101.0.133|:443... connected.\n",
            "HTTP request sent, awaiting response... 200 OK\n",
            "Length: 9037 (8.8K) [text/plain]\n",
            "Saving to: ‘vgg16.py’\n",
            "\n",
            "vgg16.py            100%[===================>]   8.83K  --.-KB/s    in 0s      \n",
            "\n",
            "2019-02-24 19:35:35 (103 MB/s) - ‘vgg16.py’ saved [9037/9037]\n",
            "\n",
            "--2019-02-24 19:35:37--  https://raw.githubusercontent.com/mathemakitten/fastai-colab/master/vgg16bn.py\n",
            "Resolving raw.githubusercontent.com (raw.githubusercontent.com)... 151.101.0.133, 151.101.64.133, 151.101.128.133, ...\n",
            "Connecting to raw.githubusercontent.com (raw.githubusercontent.com)|151.101.0.133|:443... connected.\n",
            "HTTP request sent, awaiting response... 200 OK\n",
            "Length: 4681 (4.6K) [text/plain]\n",
            "Saving to: ‘vgg16bn.py’\n",
            "\n",
            "vgg16bn.py          100%[===================>]   4.57K  --.-KB/s    in 0s      \n",
            "\n",
            "2019-02-24 19:35:38 (66.9 MB/s) - ‘vgg16bn.py’ saved [4681/4681]\n",
            "\n",
            "Requirement already satisfied: bcolz in /usr/local/lib/python3.6/dist-packages (1.2.1)\n",
            "Requirement already satisfied: numpy>=1.7 in /usr/local/lib/python3.6/dist-packages (from bcolz) (1.14.6)\n"
          ],
          "name": "stdout"
        },
        {
          "output_type": "stream",
          "text": [
            "Using TensorFlow backend.\n"
          ],
          "name": "stderr"
        }
      ]
    },
    {
      "metadata": {
        "id": "VOSHqyeryemb",
        "colab_type": "code",
        "outputId": "0b606343-ac1d-4faa-e86c-791ef34ac193",
        "colab": {
          "base_uri": "https://localhost:8080/",
          "height": 34
        }
      },
      "cell_type": "code",
      "source": [
        "from google.colab import drive\n",
        "drive.mount('/content/drive')"
      ],
      "execution_count": 2,
      "outputs": [
        {
          "output_type": "stream",
          "text": [
            "Drive already mounted at /content/drive; to attempt to forcibly remount, call drive.mount(\"/content/drive\", force_remount=True).\n"
          ],
          "name": "stdout"
        }
      ]
    },
    {
      "metadata": {
        "id": "TPsymMflvz0F",
        "colab_type": "text"
      },
      "cell_type": "markdown",
      "source": [
        "Ensure that you download your kaggle.json authentication key from the Kaggle website and upload it to your Google Drive."
      ]
    },
    {
      "metadata": {
        "id": "VZnl9It_fltA",
        "colab_type": "code",
        "outputId": "29cdc6a2-feb7-4c29-d801-2a8311a1bc43",
        "colab": {
          "base_uri": "https://localhost:8080/",
          "height": 170
        }
      },
      "cell_type": "code",
      "source": [
        "! cp /content/drive/'My Drive'/'Colab Notebooks'/fastai/kaggle.json /root/.kaggle/kaggle.json\n",
        "! kaggle competitions download -c dogs-vs-cats-redux-kernels-edition"
      ],
      "execution_count": 3,
      "outputs": [
        {
          "output_type": "stream",
          "text": [
            "Downloading test.zip to /content\n",
            " 95% 257M/271M [00:02<00:00, 123MB/s]\n",
            "100% 271M/271M [00:02<00:00, 131MB/s]\n",
            "Downloading train.zip to /content\n",
            " 98% 534M/544M [00:04<00:00, 124MB/s]\n",
            "100% 544M/544M [00:04<00:00, 136MB/s]\n",
            "Downloading sample_submission.csv to /content\n",
            "  0% 0.00/111k [00:00<?, ?B/s]\n",
            "100% 111k/111k [00:00<00:00, 35.4MB/s]\n"
          ],
          "name": "stdout"
        }
      ]
    },
    {
      "metadata": {
        "id": "5IsfEbAAt5l4",
        "colab_type": "code",
        "outputId": "3c9ede54-4336-4133-9e8f-ace8174bf969",
        "colab": {
          "base_uri": "https://localhost:8080/",
          "height": 68
        }
      },
      "cell_type": "code",
      "source": [
        "%ls\n",
        "%mkdir data"
      ],
      "execution_count": 4,
      "outputs": [
        {
          "output_type": "stream",
          "text": [
            "\u001b[0m\u001b[01;34mdata\u001b[0m/   \u001b[01;34m__pycache__\u001b[0m/  sample_submission.csv  train.zip  vgg16bn.py\n",
            "\u001b[01;34mdrive\u001b[0m/  \u001b[01;34msample_data\u001b[0m/  test.zip               utils.py   vgg16.py\n",
            "mkdir: cannot create directory ‘data’: File exists\n"
          ],
          "name": "stdout"
        }
      ]
    },
    {
      "metadata": {
        "id": "tlaMDXwgmHbk",
        "colab_type": "code",
        "outputId": "27fb9bdc-99ff-4458-b63e-48cbf4e0bdac",
        "colab": {
          "base_uri": "https://localhost:8080/",
          "height": 34
        }
      },
      "cell_type": "code",
      "source": [
        "MAIN_DIR = os.getcwd()\n",
        "DATA_DIR = MAIN_DIR + '/data'\n",
        "\n",
        "% cd $DATA_DIR"
      ],
      "execution_count": 5,
      "outputs": [
        {
          "output_type": "stream",
          "text": [
            "/content/data\n"
          ],
          "name": "stdout"
        }
      ]
    },
    {
      "metadata": {
        "id": "S0iQaOes1zlD",
        "colab_type": "code",
        "outputId": "2091734f-e938-4b60-d37e-ce1088d90ce1",
        "colab": {
          "base_uri": "https://localhost:8080/",
          "height": 34
        }
      },
      "cell_type": "code",
      "source": [
        "if (os.path.exists('test') is False) or (os.path.exists('train') is False):\n",
        "  for file in (\"../test.zip\", \"../train.zip\"):\n",
        "    zip_ref = zipfile.ZipFile(file, 'r')\n",
        "    zip_ref.extractall('')\n",
        "    zip_ref.close()\n",
        "  print(\"Files unzipped\")\n",
        "else: \n",
        "  print(\"Files already unzipped\")"
      ],
      "execution_count": 6,
      "outputs": [
        {
          "output_type": "stream",
          "text": [
            "Files unzipped\n"
          ],
          "name": "stdout"
        }
      ]
    },
    {
      "metadata": {
        "id": "5yQPsdpw3t_t",
        "colab_type": "code",
        "outputId": "63497ac6-711b-4cad-bad2-72fb2f0f5c77",
        "colab": {
          "base_uri": "https://localhost:8080/",
          "height": 102
        }
      },
      "cell_type": "code",
      "source": [
        "# Check the files in the directories unzipped properly\n",
        "!ls train | head -5"
      ],
      "execution_count": 7,
      "outputs": [
        {
          "output_type": "stream",
          "text": [
            "cat.0.jpg\n",
            "cat.10000.jpg\n",
            "cat.10001.jpg\n",
            "cat.10002.jpg\n",
            "cat.10003.jpg\n"
          ],
          "name": "stdout"
        }
      ]
    },
    {
      "metadata": {
        "id": "6W1zBOGC-fl9",
        "colab_type": "code",
        "outputId": "7d33dc2c-2f12-4661-dbdc-f0da4f0dc221",
        "colab": {
          "base_uri": "https://localhost:8080/",
          "height": 34
        }
      },
      "cell_type": "code",
      "source": [
        "# Determine how many training samples we have - should be 25,000\n",
        "# A 20% validation set of 25,000 would be 5,000\n",
        "!ls train | wc -l"
      ],
      "execution_count": 8,
      "outputs": [
        {
          "output_type": "stream",
          "text": [
            "25000\n"
          ],
          "name": "stdout"
        }
      ]
    },
    {
      "metadata": {
        "id": "aCP7a5V0FBmn",
        "colab_type": "code",
        "colab": {}
      },
      "cell_type": "code",
      "source": [
        "# Setup directory structure for data\n",
        "\n",
        "!mkdir valid\n",
        "!mkdir results\n",
        "!mkdir -p sample/train\n",
        "!mkdir -p sample/valid\n",
        "!mkdir -p sample/test"
      ],
      "execution_count": 0,
      "outputs": []
    },
    {
      "metadata": {
        "id": "Sc9DVTnC4YUX",
        "colab_type": "code",
        "outputId": "7f7944f0-b694-480b-c2f9-832608ff20ae",
        "colab": {
          "base_uri": "https://localhost:8080/",
          "height": 51
        }
      },
      "cell_type": "code",
      "source": [
        "# Create a 20% validation set - 5000 images\n",
        "\n",
        "# Get all the training images\n",
        "% cd $DATA_DIR\n",
        "% cd train\n",
        "\n",
        "imgs = glob('*.jpg')\n",
        "shuffled = np.random.permutation(imgs)\n",
        "\n",
        "for i in range(5000): \n",
        "  os.rename(shuffled[i], DATA_DIR + '/valid/' + shuffled[i]) # recall that DATA_DIR = /content/data"
      ],
      "execution_count": 10,
      "outputs": [
        {
          "output_type": "stream",
          "text": [
            "/content/data\n",
            "/content/data/train\n"
          ],
          "name": "stdout"
        }
      ]
    },
    {
      "metadata": {
        "id": "4AH88zbmCVgZ",
        "colab_type": "code",
        "colab": {}
      },
      "cell_type": "code",
      "source": [
        "# Create a sample training dataset by copying over a small 1% sample (200 images)\n",
        "\n",
        "sample_train_imgs = glob('*.jpg')\n",
        "shuffled_train_sample = np.random.permutation(sample_train_imgs)\n",
        "\n",
        "for i in range(200): \n",
        "  copyfile(shuffled_train_sample[i], DATA_DIR + '/sample/train/' + shuffled_train_sample[i])"
      ],
      "execution_count": 0,
      "outputs": []
    },
    {
      "metadata": {
        "id": "SfVkwzGkx8qx",
        "colab_type": "code",
        "colab": {
          "base_uri": "https://localhost:8080/",
          "height": 51
        },
        "outputId": "e9ef9ea9-7d6b-4ae0-ad0f-57f8727073d1"
      },
      "cell_type": "code",
      "source": [
        "# As above, create a sample validation dataset for 50 validation images \n",
        "\n",
        "% cd $DATA_DIR\n",
        "% cd valid\n",
        "\n",
        "sample_valid_imgs = glob('*.jpg')\n",
        "shuffled_valid_sample = np.random.permutation(sample_valid_imgs)\n",
        "\n",
        "for i in range(50): \n",
        "  copyfile(shuffled_valid_sample[i], DATA_DIR + '/sample/valid/' + shuffled_valid_sample[i])"
      ],
      "execution_count": 12,
      "outputs": [
        {
          "output_type": "stream",
          "text": [
            "/content/data\n",
            "/content/data/valid\n"
          ],
          "name": "stdout"
        }
      ]
    },
    {
      "metadata": {
        "id": "2dSmuffMyMNf",
        "colab_type": "code",
        "colab": {
          "base_uri": "https://localhost:8080/",
          "height": 85
        },
        "outputId": "12bd0958-bea5-4213-e3f8-27ec6d483b4a"
      },
      "cell_type": "code",
      "source": [
        "# Create folders for cats vs. dogs in both the full & sample datasets\n",
        "\n",
        "% cd $DATA_DIR/sample/train\n",
        "% mkdir cats\n",
        "% mkdir dogs\n",
        "% mv cat.*.jpg cats/\n",
        "% mv dog.*.jpg dogs/\n",
        "\n",
        "% cd $DATA_DIR/sample/valid\n",
        "% mkdir cats\n",
        "% mkdir dogs\n",
        "% mv cat.*.jpg cats/\n",
        "% mv dog.*.jpg dogs/\n",
        "\n",
        "% cd $DATA_DIR/valid\n",
        "% mkdir cats\n",
        "% mkdir dogs\n",
        "% mv cat.*.jpg cats/\n",
        "% mv dog.*.jpg dogs/\n",
        "\n",
        "% cd $DATA_DIR/train\n",
        "% mkdir cats\n",
        "% mkdir dogs\n",
        "% mv cat.*.jpg cats/\n",
        "% mv dog.*.jpg dogs/"
      ],
      "execution_count": 13,
      "outputs": [
        {
          "output_type": "stream",
          "text": [
            "/content/data/sample/train\n",
            "/content/data/sample/valid\n",
            "/content/data/valid\n",
            "/content/data/train\n"
          ],
          "name": "stdout"
        }
      ]
    },
    {
      "metadata": {
        "id": "YAzJwIbieKCQ",
        "colab_type": "code",
        "colab": {
          "base_uri": "https://localhost:8080/",
          "height": 34
        },
        "outputId": "2588acda-7fbc-4990-c826-ed0af9b18090"
      },
      "cell_type": "code",
      "source": [
        "# Test set: create an 'unknown' label for given test set because we're not sure if cat or dog\n",
        "\n",
        "% cd $DATA_DIR/test\n",
        "% mkdir unknown\n",
        "% mv *.jpg unknown/"
      ],
      "execution_count": 14,
      "outputs": [
        {
          "output_type": "stream",
          "text": [
            "/content/data/test\n"
          ],
          "name": "stdout"
        }
      ]
    },
    {
      "metadata": {
        "id": "P9-1VXZZjUPQ",
        "colab_type": "code",
        "outputId": "57dd234c-4842-4c13-e218-b72995418888",
        "colab": {
          "base_uri": "https://localhost:8080/",
          "height": 34
        }
      },
      "cell_type": "code",
      "source": [
        "# Start model training\n",
        "# Set up where to find the datasets\n",
        "\n",
        "% cd $DATA_DIR\n",
        "\n",
        "# Run pipeline on sample to ensure it's working\n",
        "path = DATA_DIR + '/' # '/sample/'; otherwise just + '/' \n",
        "\n",
        "test_path = DATA_DIR + '/test/'\n",
        "results_path = DATA_DIR + '/results/'\n",
        "\n",
        "train_path = path + '/train/'\n",
        "valid_path = path + '/valid/'"
      ],
      "execution_count": 15,
      "outputs": [
        {
          "output_type": "stream",
          "text": [
            "/content/data\n"
          ],
          "name": "stdout"
        }
      ]
    },
    {
      "metadata": {
        "id": "WbG1xPlLkIOr",
        "colab_type": "code",
        "outputId": "9f841e70-c72f-4320-ae66-6dcf615c14ae",
        "colab": {
          "base_uri": "https://localhost:8080/",
          "height": 207
        }
      },
      "cell_type": "code",
      "source": [
        "# Instantiate vgg16 class\n",
        "vgg = Vgg16()"
      ],
      "execution_count": 16,
      "outputs": [
        {
          "output_type": "stream",
          "text": [
            "WARNING:tensorflow:From /usr/local/lib/python3.6/dist-packages/tensorflow/python/framework/op_def_library.py:263: colocate_with (from tensorflow.python.framework.ops) is deprecated and will be removed in a future version.\n",
            "Instructions for updating:\n",
            "Colocations handled automatically by placer.\n",
            "WARNING:tensorflow:From /usr/local/lib/python3.6/dist-packages/keras/backend/tensorflow_backend.py:3445: calling dropout (from tensorflow.python.ops.nn_ops) with keep_prob is deprecated and will be removed in a future version.\n",
            "Instructions for updating:\n",
            "Please use `rate` instead of `keep_prob`. Rate should be set to `rate = 1 - keep_prob`.\n",
            "Downloading data from http://files.fast.ai/models/vgg16.h5\n",
            "553484288/553482496 [==============================] - 15s 0us/step\n",
            "Downloading data from http://files.fast.ai/models/imagenet_class_index.json\n",
            "40960/35363 [==================================] - 0s 2us/step\n"
          ],
          "name": "stdout"
        }
      ]
    },
    {
      "metadata": {
        "id": "Q7Qc_eVxkS0x",
        "colab_type": "code",
        "colab": {}
      },
      "cell_type": "code",
      "source": [
        "# Set hyperparameters\n",
        "batch_size=64\n",
        "num_epochs=3\n",
        "#vgg.model.optimizer.lr = 0.01 "
      ],
      "execution_count": 0,
      "outputs": []
    },
    {
      "metadata": {
        "id": "tlNyVFtzmNLr",
        "colab_type": "code",
        "outputId": "d9c5b0fc-0c3d-4113-d166-458931e5604e",
        "colab": {
          "base_uri": "https://localhost:8080/",
          "height": 51
        }
      },
      "cell_type": "code",
      "source": [
        "# Run model finetuning to switch down to only 2 classes (cats & dogs)\n",
        "\n",
        "batches = vgg.get_batches(train_path, batch_size=batch_size)\n",
        "val_batches = vgg.get_batches(valid_path, batch_size=batch_size) # batch_size=batch_size*2\n",
        "vgg.finetune(batches)"
      ],
      "execution_count": 18,
      "outputs": [
        {
          "output_type": "stream",
          "text": [
            "Found 20000 images belonging to 2 classes.\n",
            "Found 5000 images belonging to 2 classes.\n"
          ],
          "name": "stdout"
        }
      ]
    },
    {
      "metadata": {
        "id": "T5H4sddkxxrf",
        "colab_type": "code",
        "colab": {}
      },
      "cell_type": "code",
      "source": [
        "results_path = \"/content/drive/'My Drive'/'Colab Notebooks'/fastai/\""
      ],
      "execution_count": 0,
      "outputs": []
    },
    {
      "metadata": {
        "id": "BbaBrnsXm5U9",
        "colab_type": "code",
        "outputId": "8e639f93-caf6-4bee-b35c-c1d0948fa650",
        "colab": {
          "base_uri": "https://localhost:8080/",
          "height": 190
        }
      },
      "cell_type": "code",
      "source": [
        "# Run model training to fit the model\n",
        "# Training: 20000 observations / 64 batch size = 312 groups\n",
        "\n",
        "'''\n",
        "for epoch in range(num_epochs):\n",
        "  print(\"Running epoch: %d\" % epoch)\n",
        "  vgg.fit(batches, val_batches, nb_epoch=num_epochs)\n",
        "  current_weights = 'ft%d.h5' % epoch # save weights for every pass in a .h5 file format\n",
        "  vgg.model.save_weights(results_path + current_weights) # note: should switch this to persistent storage on Google Drive\n",
        "print(\"Fit the model over \" + str(num_epochs) + \" epochs\")\n",
        "'''\n",
        "\n",
        "vgg.fit(batches, val_batches, nb_epoch=num_epochs)"
      ],
      "execution_count": 20,
      "outputs": [
        {
          "output_type": "stream",
          "text": [
            "WARNING:tensorflow:From /usr/local/lib/python3.6/dist-packages/tensorflow/python/ops/math_ops.py:3066: to_int32 (from tensorflow.python.ops.math_ops) is deprecated and will be removed in a future version.\n",
            "Instructions for updating:\n",
            "Use tf.cast instead.\n",
            "Epoch 1/3\n",
            "312/312 [==============================] - 254s 813ms/step - loss: 0.4150 - acc: 0.8153 - val_loss: 0.2500 - val_acc: 0.8918\n",
            "Epoch 2/3\n",
            "312/312 [==============================] - 248s 794ms/step - loss: 0.3436 - acc: 0.8519 - val_loss: 0.2333 - val_acc: 0.9015\n",
            "Epoch 3/3\n",
            "312/312 [==============================] - 244s 781ms/step - loss: 0.3253 - acc: 0.8616 - val_loss: 0.2175 - val_acc: 0.9092\n"
          ],
          "name": "stdout"
        }
      ]
    },
    {
      "metadata": {
        "id": "zQAGTvxrC4h1",
        "colab_type": "code",
        "colab": {}
      },
      "cell_type": "code",
      "source": [
        "# Save weights to Colab instance, then cp it over to Google Drive for persistence \n",
        "\n",
        "tmp_results_path = '/content/data/'\n",
        "\n",
        "current_weights = 'catdog_weights.h5'\n",
        "vgg.model.save_weights(tmp_results_path + current_weights) "
      ],
      "execution_count": 0,
      "outputs": []
    },
    {
      "metadata": {
        "id": "XmMWFE8PDlXn",
        "colab_type": "code",
        "colab": {
          "base_uri": "https://localhost:8080/",
          "height": 51
        },
        "outputId": "4e8cc1ec-dcb2-4529-b7d0-5e05055c3dce"
      },
      "cell_type": "code",
      "source": [
        "# Check that the weights saved properly\n",
        "!ls $tmp_results_path"
      ],
      "execution_count": 25,
      "outputs": [
        {
          "output_type": "stream",
          "text": [
            "catdog_weights.h5  results  sample_submission.csv  test.zip  train.zip\n",
            "data\t\t   sample   test\t\t   train     valid\n"
          ],
          "name": "stdout"
        }
      ]
    },
    {
      "metadata": {
        "id": "F01E8X-IDOaP",
        "colab_type": "code",
        "colab": {
          "base_uri": "https://localhost:8080/",
          "height": 34
        },
        "outputId": "e29b449b-819b-4d09-cdd4-cd8f4dac0f12"
      },
      "cell_type": "code",
      "source": [
        "% cp $tmp_results_path/catdog_weights.h5 /content/drive/'My Drive'/'Colab Notebooks'/fastai/catdog_weights.h5"
      ],
      "execution_count": 27,
      "outputs": [
        {
          "output_type": "stream",
          "text": [
            "'/content/drive/My Drive/Colab Notebooks/fastai/catdog_weights.h5'\n"
          ],
          "name": "stdout"
        }
      ]
    },
    {
      "metadata": {
        "id": "9FXvON6QEG1q",
        "colab_type": "code",
        "colab": {
          "base_uri": "https://localhost:8080/",
          "height": 119
        },
        "outputId": "317783a2-59cf-4b79-c928-adcc20e08286"
      },
      "cell_type": "code",
      "source": [
        "% ls /content/drive/'My Drive'/'Colab Notebooks'/fastai/"
      ],
      "execution_count": 28,
      "outputs": [
        {
          "output_type": "stream",
          "text": [
            "all.zip                  kaggle.json\n",
            "catdog_weights.h5        lesson1-homework-cats-dogs-redux.ipynb\n",
            "convolution-intro.ipynb  lesson1.ipynb\n",
            "\u001b[0m\u001b[01;34mdata\u001b[0m/                    lesson2.ipynb\n",
            "devhub-workshop.ipynb    lesson3.ipynb\n",
            "dogscats.zip             sgd-intro.ipynb\n"
          ],
          "name": "stdout"
        }
      ]
    }
  ]
}